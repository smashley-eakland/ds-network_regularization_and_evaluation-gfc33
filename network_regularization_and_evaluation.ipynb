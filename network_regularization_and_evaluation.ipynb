{
 "cells": [
  {
   "cell_type": "markdown",
   "metadata": {
    "slideshow": {
     "slide_type": "slide"
    }
   },
   "source": [
    "# Regularization and Evaluation of Neural Networks"
   ]
  },
  {
   "cell_type": "code",
   "execution_count": 1,
   "metadata": {},
   "outputs": [],
   "source": [
    "from sklearn.datasets import load_sample_images\n",
    "from sklearn.datasets import load_digits\n",
    "from sklearn.model_selection import train_test_split, cross_val_score\n",
    "from sklearn.preprocessing import OneHotEncoder\n",
    "from sklearn.metrics import accuracy_score, confusion_matrix\n",
    "import matplotlib.pyplot as plt\n",
    "import matplotlib.image as mpimg\n",
    "import numpy as np\n",
    "import seaborn as sns\n",
    "\n",
    "from tensorflow.keras.models import Sequential\n",
    "from tensorflow.keras.layers import Dense, Dropout\n",
    "from tensorflow.keras.regularizers import l2\n",
    "from tensorflow.keras.optimizers import SGD\n",
    "from tensorflow.keras.wrappers import scikit_learn\n",
    "from tensorflow.keras.callbacks import EarlyStopping\n",
    "\n",
    "import os\n",
    "import sys\n",
    "module_path = os.path.abspath(os.path.join(os.pardir, os.pardir))\n",
    "if module_path not in sys.path:\n",
    "    sys.path.append(module_path)\n",
    "    \n",
    "%load_ext autoreload\n",
    "%autoreload 2"
   ]
  },
  {
   "cell_type": "markdown",
   "metadata": {},
   "source": [
    "## Learning Objectives\n",
    "\n",
    "- use `keras` to code up a neural network model;\n",
    "- explain dropout and early stopping as distinctive forms of regularization in neural networks;\n",
    "- use wrappers inside `keras` to make models that can jibe with `sklearn`."
   ]
  },
  {
   "cell_type": "markdown",
   "metadata": {},
   "source": [
    "### From last time"
   ]
  },
  {
   "cell_type": "code",
   "execution_count": 3,
   "metadata": {},
   "outputs": [],
   "source": [
    "digits = load_digits()\n",
    "X = digits.data\n",
    "y = digits.target\n",
    "\n",
    "y_binary = y % 2"
   ]
  },
  {
   "cell_type": "code",
   "execution_count": 4,
   "metadata": {},
   "outputs": [
    {
     "name": "stdout",
     "output_type": "stream",
     "text": [
      "Epoch 1/50\n",
      "180/180 [==============================] - 1s 7ms/step - loss: 1.5221 - accuracy: 0.6361\n",
      "Epoch 2/50\n",
      "180/180 [==============================] - 1s 5ms/step - loss: 0.3389 - accuracy: 0.8664\n",
      "Epoch 3/50\n",
      "180/180 [==============================] - 1s 7ms/step - loss: 0.2172 - accuracy: 0.9165: 0s - loss:\n",
      "Epoch 4/50\n",
      "180/180 [==============================] - 1s 4ms/step - loss: 0.1748 - accuracy: 0.9382\n",
      "Epoch 5/50\n",
      "180/180 [==============================] - 1s 3ms/step - loss: 0.1477 - accuracy: 0.9482\n",
      "Epoch 6/50\n",
      "180/180 [==============================] - 1s 4ms/step - loss: 0.1299 - accuracy: 0.9505\n",
      "Epoch 7/50\n",
      "180/180 [==============================] - 1s 3ms/step - loss: 0.1177 - accuracy: 0.9516\n",
      "Epoch 8/50\n",
      "180/180 [==============================] - 1s 3ms/step - loss: 0.1040 - accuracy: 0.9633\n",
      "Epoch 9/50\n",
      "180/180 [==============================] - 1s 3ms/step - loss: 0.0949 - accuracy: 0.9638\n",
      "Epoch 10/50\n",
      "180/180 [==============================] - 1s 3ms/step - loss: 0.0848 - accuracy: 0.9688\n",
      "Epoch 11/50\n",
      "180/180 [==============================] - 1s 7ms/step - loss: 0.0769 - accuracy: 0.9716\n",
      "Epoch 12/50\n",
      "180/180 [==============================] - 1s 7ms/step - loss: 0.0778 - accuracy: 0.9711\n",
      "Epoch 13/50\n",
      "180/180 [==============================] - 1s 4ms/step - loss: 0.0660 - accuracy: 0.9761\n",
      "Epoch 14/50\n",
      "180/180 [==============================] - 1s 3ms/step - loss: 0.0585 - accuracy: 0.9800\n",
      "Epoch 15/50\n",
      "180/180 [==============================] - 0s 3ms/step - loss: 0.0553 - accuracy: 0.9772\n",
      "Epoch 16/50\n",
      "180/180 [==============================] - 1s 3ms/step - loss: 0.0468 - accuracy: 0.9822\n",
      "Epoch 17/50\n",
      "180/180 [==============================] - 1s 3ms/step - loss: 0.0452 - accuracy: 0.9783\n",
      "Epoch 18/50\n",
      "180/180 [==============================] - 0s 3ms/step - loss: 0.0419 - accuracy: 0.9822\n",
      "Epoch 19/50\n",
      "180/180 [==============================] - 0s 3ms/step - loss: 0.0406 - accuracy: 0.9861\n",
      "Epoch 20/50\n",
      "180/180 [==============================] - 2s 8ms/step - loss: 0.0340 - accuracy: 0.9866\n",
      "Epoch 21/50\n",
      "180/180 [==============================] - 1s 4ms/step - loss: 0.0324 - accuracy: 0.9894\n",
      "Epoch 22/50\n",
      "180/180 [==============================] - 1s 4ms/step - loss: 0.0304 - accuracy: 0.9872\n",
      "Epoch 23/50\n",
      "180/180 [==============================] - 1s 4ms/step - loss: 0.0285 - accuracy: 0.9894\n",
      "Epoch 24/50\n",
      "180/180 [==============================] - 1s 7ms/step - loss: 0.0249 - accuracy: 0.9933\n",
      "Epoch 25/50\n",
      "180/180 [==============================] - 2s 11ms/step - loss: 0.0229 - accuracy: 0.9928\n",
      "Epoch 26/50\n",
      "180/180 [==============================] - 1s 4ms/step - loss: 0.0223 - accuracy: 0.9917\n",
      "Epoch 27/50\n",
      "180/180 [==============================] - 1s 5ms/step - loss: 0.0180 - accuracy: 0.9939\n",
      "Epoch 28/50\n",
      "180/180 [==============================] - 1s 3ms/step - loss: 0.0143 - accuracy: 0.9972\n",
      "Epoch 29/50\n",
      "180/180 [==============================] - 1s 3ms/step - loss: 0.0158 - accuracy: 0.9944\n",
      "Epoch 30/50\n",
      "180/180 [==============================] - 1s 3ms/step - loss: 0.0136 - accuracy: 0.9967\n",
      "Epoch 31/50\n",
      "180/180 [==============================] - 1s 3ms/step - loss: 0.0184 - accuracy: 0.9944\n",
      "Epoch 32/50\n",
      "180/180 [==============================] - 1s 4ms/step - loss: 0.0141 - accuracy: 0.9961\n",
      "Epoch 33/50\n",
      "180/180 [==============================] - 1s 8ms/step - loss: 0.0110 - accuracy: 0.9961\n",
      "Epoch 34/50\n",
      "180/180 [==============================] - 1s 6ms/step - loss: 0.0100 - accuracy: 0.9955\n",
      "Epoch 35/50\n",
      "180/180 [==============================] - 1s 3ms/step - loss: 0.0108 - accuracy: 0.9955\n",
      "Epoch 36/50\n",
      "180/180 [==============================] - 1s 6ms/step - loss: 0.0110 - accuracy: 0.9972\n",
      "Epoch 37/50\n",
      "180/180 [==============================] - 1s 5ms/step - loss: 0.0097 - accuracy: 0.9978\n",
      "Epoch 38/50\n",
      "180/180 [==============================] - 1s 5ms/step - loss: 0.0089 - accuracy: 0.9961\n",
      "Epoch 39/50\n",
      "180/180 [==============================] - 1s 3ms/step - loss: 0.0070 - accuracy: 0.9983\n",
      "Epoch 40/50\n",
      "180/180 [==============================] - 1s 3ms/step - loss: 0.0054 - accuracy: 0.9989\n",
      "Epoch 41/50\n",
      "180/180 [==============================] - 1s 4ms/step - loss: 0.0072 - accuracy: 0.9978\n",
      "Epoch 42/50\n",
      "180/180 [==============================] - 1s 4ms/step - loss: 0.0076 - accuracy: 0.9978\n",
      "Epoch 43/50\n",
      "180/180 [==============================] - 1s 4ms/step - loss: 0.0084 - accuracy: 0.9972\n",
      "Epoch 44/50\n",
      "180/180 [==============================] - 1s 4ms/step - loss: 0.0046 - accuracy: 0.9983\n",
      "Epoch 45/50\n",
      "180/180 [==============================] - 1s 3ms/step - loss: 0.0045 - accuracy: 0.9978\n",
      "Epoch 46/50\n",
      "180/180 [==============================] - 1s 4ms/step - loss: 0.0054 - accuracy: 0.9978\n",
      "Epoch 47/50\n",
      "180/180 [==============================] - 1s 3ms/step - loss: 0.0051 - accuracy: 0.9989\n",
      "Epoch 48/50\n",
      "180/180 [==============================] - 1s 3ms/step - loss: 0.0036 - accuracy: 0.9989\n",
      "Epoch 49/50\n",
      "180/180 [==============================] - 1s 3ms/step - loss: 0.0044 - accuracy: 0.9994\n",
      "Epoch 50/50\n",
      "180/180 [==============================] - 1s 3ms/step - loss: 0.0037 - accuracy: 0.9989\n"
     ]
    },
    {
     "data": {
      "text/plain": [
       "<tensorflow.python.keras.callbacks.History at 0x7facbae31310>"
      ]
     },
     "execution_count": 4,
     "metadata": {},
     "output_type": "execute_result"
    }
   ],
   "source": [
    "model = Sequential()\n",
    "model.add(Dense(12, activation='relu', input_dim=64))\n",
    "model.add(Dense(8, activation='relu'))\n",
    "model.add(Dense(1, activation='sigmoid'))\n",
    "\n",
    "model.compile(optimizer='rmsprop',\n",
    "              loss='binary_crossentropy',\n",
    "              metrics=['accuracy'])\n",
    "\n",
    "model.fit(X, y_binary, epochs=50, batch_size=10)"
   ]
  },
  {
   "cell_type": "markdown",
   "metadata": {},
   "source": [
    "### Things to know:\n",
    "\n",
    "- The data and labels in `fit()` need to be numpy arrays, not `pandas` dfs.\n",
    "- Scaling your data will have a large impact on your model.\n",
    "   > For our traditional input features, we would use a scaler object. For images, as long as the minimum value is 0, we can simply divide through by the maximum pixel intensity."
   ]
  },
  {
   "cell_type": "markdown",
   "metadata": {},
   "source": [
    "#### Getting data ready for modeling\n",
    "**Preprocessing**:\n",
    "\n",
    "- use train_test_split to create X_train, y_train, X_test, and y_test\n",
    "- Split training data into pure_train and validation sets.\n",
    "- Scale the pixel intensity to a value between 0 and 1."
   ]
  },
  {
   "cell_type": "markdown",
   "metadata": {},
   "source": [
    "Scaling our input variables will help speed up our neural network.\n",
    "\n",
    "Since our minimum intensity is 0, we can normalize the inputs by dividing each value by the max value (16)."
   ]
  },
  {
   "cell_type": "code",
   "execution_count": 5,
   "metadata": {},
   "outputs": [],
   "source": [
    "#first train/test split\n",
    "X_train, X_test, y_train, y_test =\\\n",
    "    train_test_split(X, y_binary, random_state=42, test_size=0.2)\n",
    "#split training again into another set for normalization\n",
    "X_pure_train, X_val, y_pure_train, y_val =\\\n",
    "    train_test_split(X_train, y_train, random_state=42, test_size=0.2)\n",
    "#normalize by dividing by max value of 16\n",
    "X_pure_train, X_val, X_test = X_pure_train/16, X_val/16, X_test/16"
   ]
  },
  {
   "cell_type": "markdown",
   "metadata": {},
   "source": [
    "For activation, let's start with the familiar sigmoid function, and see how it performs."
   ]
  },
  {
   "cell_type": "code",
   "execution_count": 6,
   "metadata": {},
   "outputs": [
    {
     "name": "stdout",
     "output_type": "stream",
     "text": [
      "Epoch 1/10\n",
      "12/12 [==============================] - 0s 2ms/step - loss: 0.7123 - accuracy: 0.4961\n",
      "Epoch 2/10\n",
      "12/12 [==============================] - 0s 2ms/step - loss: 0.7092 - accuracy: 0.4961\n",
      "Epoch 3/10\n",
      "12/12 [==============================] - 0s 2ms/step - loss: 0.7064 - accuracy: 0.4961\n",
      "Epoch 4/10\n",
      "12/12 [==============================] - 0s 5ms/step - loss: 0.7043 - accuracy: 0.4961\n",
      "Epoch 5/10\n",
      "12/12 [==============================] - 0s 3ms/step - loss: 0.7026 - accuracy: 0.4961\n",
      "Epoch 6/10\n",
      "12/12 [==============================] - 0s 3ms/step - loss: 0.7012 - accuracy: 0.4961\n",
      "Epoch 7/10\n",
      "12/12 [==============================] - 0s 4ms/step - loss: 0.7002 - accuracy: 0.4961\n",
      "Epoch 8/10\n",
      "12/12 [==============================] - 0s 2ms/step - loss: 0.6992 - accuracy: 0.4961\n",
      "Epoch 9/10\n",
      "12/12 [==============================] - 0s 5ms/step - loss: 0.6985 - accuracy: 0.4961\n",
      "Epoch 10/10\n",
      "12/12 [==============================] - 0s 3ms/step - loss: 0.6979 - accuracy: 0.4961\n"
     ]
    }
   ],
   "source": [
    "model = Sequential()\n",
    "# We will start with our trusty sigmoid function.\n",
    "# What does input dimension correspond to? - The dimension of the tensor (check with .shape)\n",
    "model.add(Dense(12, activation='sigmoid', input_dim=64))\n",
    "model.add(Dense(8, activation='sigmoid'))\n",
    "model.add(Dense(1, activation='sigmoid'))\n",
    "\n",
    "model.compile(optimizer='SGD' ,\n",
    "              # We use binary_crossentropy for a binary loss function\n",
    "              loss='binary_crossentropy',\n",
    "              metrics=['accuracy'])\n",
    "\n",
    "# Assign the variable history to store the results,\n",
    "# and set verbose=1 so we can see the output. To see\n",
    "# only the metrics at the end of each epoch, set verbose=2.\n",
    "results = model.fit(X_pure_train, y_pure_train, epochs=10, batch_size=100, verbose=1)"
   ]
  },
  {
   "cell_type": "markdown",
   "metadata": {},
   "source": [
    "We can access the history of our model via `results.history`.\n",
    "Use __dict__ to take a tour."
   ]
  },
  {
   "cell_type": "code",
   "execution_count": 7,
   "metadata": {},
   "outputs": [
    {
     "data": {
      "text/plain": [
       "{'validation_data': None,\n",
       " 'model': <tensorflow.python.keras.engine.sequential.Sequential at 0x7facbac10880>,\n",
       " '_chief_worker_only': None,\n",
       " '_supports_tf_logs': False,\n",
       " 'history': {'loss': [0.7123245000839233,\n",
       "   0.7091560959815979,\n",
       "   0.7064180970191956,\n",
       "   0.7043173909187317,\n",
       "   0.7025619745254517,\n",
       "   0.7012463212013245,\n",
       "   0.7001783847808838,\n",
       "   0.6992278695106506,\n",
       "   0.6985119581222534,\n",
       "   0.6978591084480286],\n",
       "  'accuracy': [0.4960835576057434,\n",
       "   0.4960835576057434,\n",
       "   0.4960835576057434,\n",
       "   0.4960835576057434,\n",
       "   0.4960835576057434,\n",
       "   0.4960835576057434,\n",
       "   0.4960835576057434,\n",
       "   0.4960835576057434,\n",
       "   0.4960835576057434,\n",
       "   0.4960835576057434]},\n",
       " 'params': {'verbose': 1, 'epochs': 10, 'steps': 12},\n",
       " 'epoch': [0, 1, 2, 3, 4, 5, 6, 7, 8, 9]}"
      ]
     },
     "execution_count": 7,
     "metadata": {},
     "output_type": "execute_result"
    }
   ],
   "source": [
    "results.__dict__"
   ]
  },
  {
   "cell_type": "code",
   "execution_count": 8,
   "metadata": {},
   "outputs": [
    {
     "data": {
      "image/png": "[encoded data removed]",
      "text/plain": [
       "<Figure size 720x360 with 2 Axes>"
      ]
     },
     "metadata": {
      "needs_background": "light"
     },
     "output_type": "display_data"
    }
   ],
   "source": [
    "sigmoid_loss = results.history['loss']\n",
    "sigmoid_accuracy = results.history['accuracy']\n",
    "\n",
    "fig, (ax1, ax2) = plt.subplots(1, 2, figsize=(10, 5))\n",
    "sns.lineplot(x=results.epoch, y=sigmoid_loss, ax=ax1, label='loss')\n",
    "sns.lineplot(x=results.epoch, y=sigmoid_accuracy, ax=ax2, label='accuracy');"
   ]
  },
  {
   "cell_type": "markdown",
   "metadata": {},
   "source": [
    "We have two plots above both relating to the quality of our model.  The left-hand plot is our loss. It uses the probabilities associated with our predictions to judge how well our prediction fits reality. We want it to decrease as far as possible.\n",
    "\n",
    "The accuracy judges how well the predictions are after applying the threshold at the output layer.  We want accuracy to increase."
   ]
  },
  {
   "cell_type": "markdown",
   "metadata": {},
   "source": [
    "If we look at our loss, it is still decreasing. That is a signal that our model is **still learning**. If our model is still learning, we can allow it to get better by turning a few dials.\n",
    "\n",
    "Let's:\n",
    "- increase the number of epochs;\n",
    "- change sigmoid activation in the hidden layers to ReLU; and\n",
    "- decrease the batch size."
   ]
  },
  {
   "cell_type": "code",
   "execution_count": 9,
   "metadata": {},
   "outputs": [
    {
     "data": {
      "text/plain": [
       "1149"
      ]
     },
     "execution_count": 9,
     "metadata": {},
     "output_type": "execute_result"
    }
   ],
   "source": [
    "X_pure_train.shape[0]"
   ]
  },
  {
   "cell_type": "code",
   "execution_count": 10,
   "metadata": {},
   "outputs": [
    {
     "name": "stdout",
     "output_type": "stream",
     "text": [
      "Epoch 1/100\n",
      "36/36 [==============================] - 0s 2ms/step - loss: 0.6556 - accuracy: 0.7015\n",
      "Epoch 2/100\n",
      "36/36 [==============================] - 0s 4ms/step - loss: 0.6374 - accuracy: 0.7015\n",
      "Epoch 3/100\n",
      "36/36 [==============================] - 0s 5ms/step - loss: 0.6187 - accuracy: 0.6989\n",
      "Epoch 4/100\n",
      "36/36 [==============================] - 0s 4ms/step - loss: 0.5997 - accuracy: 0.7354\n",
      "Epoch 5/100\n",
      "36/36 [==============================] - 0s 3ms/step - loss: 0.5807 - accuracy: 0.7659\n",
      "Epoch 6/100\n",
      "36/36 [==============================] - 0s 2ms/step - loss: 0.5614 - accuracy: 0.7920\n",
      "Epoch 7/100\n",
      "36/36 [==============================] - 0s 2ms/step - loss: 0.5416 - accuracy: 0.8024\n",
      "Epoch 8/100\n",
      "36/36 [==============================] - 0s 2ms/step - loss: 0.5219 - accuracy: 0.8129\n",
      "Epoch 9/100\n",
      "36/36 [==============================] - 0s 2ms/step - loss: 0.5018 - accuracy: 0.8268\n",
      "Epoch 10/100\n",
      "36/36 [==============================] - 0s 2ms/step - loss: 0.4814 - accuracy: 0.8338\n",
      "Epoch 11/100\n",
      "36/36 [==============================] - 0s 2ms/step - loss: 0.4621 - accuracy: 0.8442\n",
      "Epoch 12/100\n",
      "36/36 [==============================] - 0s 5ms/step - loss: 0.4435 - accuracy: 0.8433\n",
      "Epoch 13/100\n",
      "36/36 [==============================] - 0s 2ms/step - loss: 0.4259 - accuracy: 0.8460\n",
      "Epoch 14/100\n",
      "36/36 [==============================] - 0s 2ms/step - loss: 0.4090 - accuracy: 0.8503\n",
      "Epoch 15/100\n",
      "36/36 [==============================] - 0s 4ms/step - loss: 0.3934 - accuracy: 0.8547\n",
      "Epoch 16/100\n",
      "36/36 [==============================] - 0s 2ms/step - loss: 0.3792 - accuracy: 0.8573\n",
      "Epoch 17/100\n",
      "36/36 [==============================] - 0s 2ms/step - loss: 0.3661 - accuracy: 0.8547\n",
      "Epoch 18/100\n",
      "36/36 [==============================] - 0s 2ms/step - loss: 0.3541 - accuracy: 0.8625\n",
      "Epoch 19/100\n",
      "36/36 [==============================] - 0s 5ms/step - loss: 0.3428 - accuracy: 0.8660\n",
      "Epoch 20/100\n",
      "36/36 [==============================] - 0s 2ms/step - loss: 0.3325 - accuracy: 0.8729\n",
      "Epoch 21/100\n",
      "36/36 [==============================] - 0s 2ms/step - loss: 0.3240 - accuracy: 0.8738\n",
      "Epoch 22/100\n",
      "36/36 [==============================] - 0s 3ms/step - loss: 0.3150 - accuracy: 0.8799\n",
      "Epoch 23/100\n",
      "36/36 [==============================] - 0s 2ms/step - loss: 0.3075 - accuracy: 0.8799\n",
      "Epoch 24/100\n",
      "36/36 [==============================] - 0s 2ms/step - loss: 0.2997 - accuracy: 0.8851\n",
      "Epoch 25/100\n",
      "36/36 [==============================] - 0s 5ms/step - loss: 0.2930 - accuracy: 0.8877\n",
      "Epoch 26/100\n",
      "36/36 [==============================] - 0s 2ms/step - loss: 0.2848 - accuracy: 0.8903\n",
      "Epoch 27/100\n",
      "36/36 [==============================] - 0s 2ms/step - loss: 0.2815 - accuracy: 0.8860\n",
      "Epoch 28/100\n",
      "36/36 [==============================] - 0s 5ms/step - loss: 0.2757 - accuracy: 0.8921\n",
      "Epoch 29/100\n",
      "36/36 [==============================] - 0s 3ms/step - loss: 0.2704 - accuracy: 0.8956\n",
      "Epoch 30/100\n",
      "36/36 [==============================] - 0s 4ms/step - loss: 0.2661 - accuracy: 0.8886\n",
      "Epoch 31/100\n",
      "36/36 [==============================] - 0s 2ms/step - loss: 0.2622 - accuracy: 0.8947\n",
      "Epoch 32/100\n",
      "36/36 [==============================] - 0s 2ms/step - loss: 0.2577 - accuracy: 0.8930\n",
      "Epoch 33/100\n",
      "36/36 [==============================] - 0s 2ms/step - loss: 0.2513 - accuracy: 0.8956\n",
      "Epoch 34/100\n",
      "36/36 [==============================] - 0s 4ms/step - loss: 0.2489 - accuracy: 0.9034\n",
      "Epoch 35/100\n",
      "36/36 [==============================] - 0s 2ms/step - loss: 0.2452 - accuracy: 0.8982\n",
      "Epoch 36/100\n",
      "36/36 [==============================] - 0s 2ms/step - loss: 0.2418 - accuracy: 0.8982\n",
      "Epoch 37/100\n",
      "36/36 [==============================] - 0s 2ms/step - loss: 0.2393 - accuracy: 0.9017\n",
      "Epoch 38/100\n",
      "36/36 [==============================] - 0s 2ms/step - loss: 0.2341 - accuracy: 0.9060\n",
      "Epoch 39/100\n",
      "36/36 [==============================] - 0s 2ms/step - loss: 0.2319 - accuracy: 0.9060\n",
      "Epoch 40/100\n",
      "36/36 [==============================] - 0s 2ms/step - loss: 0.2278 - accuracy: 0.9060\n",
      "Epoch 41/100\n",
      "36/36 [==============================] - 0s 2ms/step - loss: 0.2252 - accuracy: 0.9043\n",
      "Epoch 42/100\n",
      "36/36 [==============================] - 0s 3ms/step - loss: 0.2213 - accuracy: 0.9069\n",
      "Epoch 43/100\n",
      "36/36 [==============================] - 0s 2ms/step - loss: 0.2194 - accuracy: 0.9060\n",
      "Epoch 44/100\n",
      "36/36 [==============================] - 0s 4ms/step - loss: 0.2170 - accuracy: 0.9060\n",
      "Epoch 45/100\n",
      "36/36 [==============================] - 0s 2ms/step - loss: 0.2139 - accuracy: 0.9130\n",
      "Epoch 46/100\n",
      "36/36 [==============================] - 0s 2ms/step - loss: 0.2110 - accuracy: 0.9104\n",
      "Epoch 47/100\n",
      "36/36 [==============================] - 0s 2ms/step - loss: 0.2087 - accuracy: 0.9112\n",
      "Epoch 48/100\n",
      "36/36 [==============================] - 0s 3ms/step - loss: 0.2062 - accuracy: 0.9138\n",
      "Epoch 49/100\n",
      "36/36 [==============================] - 0s 2ms/step - loss: 0.2038 - accuracy: 0.9182\n",
      "Epoch 50/100\n",
      "36/36 [==============================] - 0s 2ms/step - loss: 0.2021 - accuracy: 0.9138\n",
      "Epoch 51/100\n",
      "36/36 [==============================] - 0s 5ms/step - loss: 0.1992 - accuracy: 0.9156\n",
      "Epoch 52/100\n",
      "36/36 [==============================] - 0s 2ms/step - loss: 0.1968 - accuracy: 0.9138\n",
      "Epoch 53/100\n",
      "36/36 [==============================] - 0s 3ms/step - loss: 0.1955 - accuracy: 0.9191\n",
      "Epoch 54/100\n",
      "36/36 [==============================] - 0s 4ms/step - loss: 0.1941 - accuracy: 0.9147\n",
      "Epoch 55/100\n",
      "36/36 [==============================] - 0s 2ms/step - loss: 0.1907 - accuracy: 0.9191\n",
      "Epoch 56/100\n",
      "36/36 [==============================] - 0s 2ms/step - loss: 0.1899 - accuracy: 0.9182\n",
      "Epoch 57/100\n",
      "36/36 [==============================] - 0s 2ms/step - loss: 0.1866 - accuracy: 0.9191\n",
      "Epoch 58/100\n",
      "36/36 [==============================] - 0s 4ms/step - loss: 0.1867 - accuracy: 0.9217\n",
      "Epoch 59/100\n",
      "36/36 [==============================] - 0s 2ms/step - loss: 0.1835 - accuracy: 0.9191\n",
      "Epoch 60/100\n",
      "36/36 [==============================] - 0s 3ms/step - loss: 0.1828 - accuracy: 0.9225\n",
      "Epoch 61/100\n",
      "36/36 [==============================] - 0s 2ms/step - loss: 0.1805 - accuracy: 0.9225\n",
      "Epoch 62/100\n",
      "36/36 [==============================] - 0s 3ms/step - loss: 0.1779 - accuracy: 0.9225\n",
      "Epoch 63/100\n",
      "36/36 [==============================] - 0s 3ms/step - loss: 0.1764 - accuracy: 0.9252\n",
      "Epoch 64/100\n",
      "36/36 [==============================] - 0s 2ms/step - loss: 0.1750 - accuracy: 0.9243\n",
      "Epoch 65/100\n",
      "36/36 [==============================] - 0s 2ms/step - loss: 0.1711 - accuracy: 0.9234\n",
      "Epoch 66/100\n",
      "36/36 [==============================] - 0s 2ms/step - loss: 0.1710 - accuracy: 0.9243\n",
      "Epoch 67/100\n",
      "36/36 [==============================] - 0s 2ms/step - loss: 0.1686 - accuracy: 0.9312\n",
      "Epoch 68/100\n",
      "36/36 [==============================] - 0s 2ms/step - loss: 0.1675 - accuracy: 0.9269\n",
      "Epoch 69/100\n",
      "36/36 [==============================] - 0s 5ms/step - loss: 0.1651 - accuracy: 0.9295\n",
      "Epoch 70/100\n",
      "36/36 [==============================] - 0s 3ms/step - loss: 0.1642 - accuracy: 0.9304\n",
      "Epoch 71/100\n",
      "36/36 [==============================] - 0s 3ms/step - loss: 0.1635 - accuracy: 0.9269\n",
      "Epoch 72/100\n",
      "36/36 [==============================] - 0s 3ms/step - loss: 0.1615 - accuracy: 0.9347\n",
      "Epoch 73/100\n",
      "36/36 [==============================] - 0s 3ms/step - loss: 0.1598 - accuracy: 0.9312\n",
      "Epoch 74/100\n",
      "36/36 [==============================] - 0s 3ms/step - loss: 0.1586 - accuracy: 0.9312\n",
      "Epoch 75/100\n",
      "36/36 [==============================] - 0s 3ms/step - loss: 0.1568 - accuracy: 0.9330\n",
      "Epoch 76/100\n",
      "36/36 [==============================] - 0s 2ms/step - loss: 0.1549 - accuracy: 0.9356\n",
      "Epoch 77/100\n",
      "36/36 [==============================] - 0s 6ms/step - loss: 0.1543 - accuracy: 0.9347\n",
      "Epoch 78/100\n",
      "36/36 [==============================] - 0s 8ms/step - loss: 0.1527 - accuracy: 0.9382\n",
      "Epoch 79/100\n",
      "36/36 [==============================] - 1s 16ms/step - loss: 0.1503 - accuracy: 0.9339\n",
      "Epoch 80/100\n",
      "36/36 [==============================] - 0s 3ms/step - loss: 0.1498 - accuracy: 0.9365\n",
      "Epoch 81/100\n",
      "36/36 [==============================] - 0s 4ms/step - loss: 0.1471 - accuracy: 0.9373\n",
      "Epoch 82/100\n",
      "36/36 [==============================] - 0s 9ms/step - loss: 0.1456 - accuracy: 0.9365\n",
      "Epoch 83/100\n"
     ]
    },
    {
     "name": "stdout",
     "output_type": "stream",
     "text": [
      "36/36 [==============================] - 0s 3ms/step - loss: 0.1459 - accuracy: 0.9399\n",
      "Epoch 84/100\n",
      "36/36 [==============================] - 1s 17ms/step - loss: 0.1444 - accuracy: 0.9417 0s - loss: 0.1663 - ac\n",
      "Epoch 85/100\n",
      "36/36 [==============================] - 0s 9ms/step - loss: 0.1423 - accuracy: 0.9426\n",
      "Epoch 86/100\n",
      "36/36 [==============================] - 0s 4ms/step - loss: 0.1412 - accuracy: 0.9417\n",
      "Epoch 87/100\n",
      "36/36 [==============================] - 1s 19ms/step - loss: 0.1406 - accuracy: 0.9434\n",
      "Epoch 88/100\n",
      "36/36 [==============================] - 0s 10ms/step - loss: 0.1380 - accuracy: 0.9460\n",
      "Epoch 89/100\n",
      "36/36 [==============================] - 0s 4ms/step - loss: 0.1374 - accuracy: 0.9452\n",
      "Epoch 90/100\n",
      "36/36 [==============================] - 0s 13ms/step - loss: 0.1357 - accuracy: 0.9469\n",
      "Epoch 91/100\n",
      "36/36 [==============================] - 0s 7ms/step - loss: 0.1345 - accuracy: 0.9426\n",
      "Epoch 92/100\n",
      "36/36 [==============================] - 0s 7ms/step - loss: 0.1337 - accuracy: 0.9487\n",
      "Epoch 93/100\n",
      "36/36 [==============================] - 0s 7ms/step - loss: 0.1317 - accuracy: 0.9443\n",
      "Epoch 94/100\n",
      "36/36 [==============================] - 0s 10ms/step - loss: 0.1304 - accuracy: 0.9478\n",
      "Epoch 95/100\n",
      "36/36 [==============================] - 0s 7ms/step - loss: 0.1301 - accuracy: 0.9469\n",
      "Epoch 96/100\n",
      "36/36 [==============================] - 0s 9ms/step - loss: 0.1296 - accuracy: 0.9434\n",
      "Epoch 97/100\n",
      "36/36 [==============================] - 0s 8ms/step - loss: 0.1272 - accuracy: 0.9495\n",
      "Epoch 98/100\n",
      "36/36 [==============================] - 0s 4ms/step - loss: 0.1252 - accuracy: 0.9495\n",
      "Epoch 99/100\n",
      "36/36 [==============================] - 0s 10ms/step - loss: 0.1249 - accuracy: 0.9469\n",
      "Epoch 100/100\n",
      "36/36 [==============================] - 0s 5ms/step - loss: 0.1241 - accuracy: 0.9521\n"
     ]
    }
   ],
   "source": [
    "model = Sequential()\n",
    "model.add(Dense(12, activation='relu', input_dim=64))\n",
    "model.add(Dense(8, activation='relu'))\n",
    "model.add(Dense(1, activation='sigmoid'))\n",
    "\n",
    "model.compile(optimizer='SGD',\n",
    "              loss='binary_crossentropy',\n",
    "              metrics=['accuracy'])\n",
    "\n",
    "# Assign the variable history to store the results,\n",
    "# and set verbose=1 so we can see the output.\n",
    "results = model.fit(X_pure_train, y_pure_train, epochs=100, batch_size=None, verbose=1)"
   ]
  },
  {
   "cell_type": "code",
   "execution_count": 11,
   "metadata": {},
   "outputs": [
    {
     "data": {
      "image/png": "[encoded data removed]",
      "text/plain": [
       "<Figure size 720x360 with 2 Axes>"
      ]
     },
     "metadata": {
      "needs_background": "light"
     },
     "output_type": "display_data"
    }
   ],
   "source": [
    "sigmoid_loss = results.history['loss']\n",
    "sigmoid_accuracy = results.history['accuracy']\n",
    "\n",
    "fig, (ax1, ax2) = plt.subplots(1, 2, figsize=(10, 5))\n",
    "sns.lineplot(x=results.epoch, y=sigmoid_loss, ax=ax1, label='loss')\n",
    "sns.lineplot(x=results.epoch, y=sigmoid_accuracy, ax=ax2, label='accuracy');"
   ]
  },
  {
   "cell_type": "markdown",
   "metadata": {},
   "source": [
    "If we increase the learning rate to a very high number, we see that our model overshoots the minimum, and starts bouncing all around."
   ]
  },
  {
   "cell_type": "code",
   "execution_count": 12,
   "metadata": {},
   "outputs": [
    {
     "name": "stdout",
     "output_type": "stream",
     "text": [
      "Epoch 1/30\n",
      "115/115 [==============================] - 0s 3ms/step - loss: 8.0354 - accuracy: 0.5022\n",
      "Epoch 2/30\n",
      "115/115 [==============================] - 1s 7ms/step - loss: 1.0880 - accuracy: 0.4909\n",
      "Epoch 3/30\n",
      "115/115 [==============================] - 0s 3ms/step - loss: 0.9588 - accuracy: 0.5013\n",
      "Epoch 4/30\n",
      "115/115 [==============================] - 1s 6ms/step - loss: 1.0024 - accuracy: 0.4961\n",
      "Epoch 5/30\n",
      "115/115 [==============================] - 0s 3ms/step - loss: 0.9965 - accuracy: 0.5083\n",
      "Epoch 6/30\n",
      "115/115 [==============================] - 0s 3ms/step - loss: 1.1088 - accuracy: 0.4726\n",
      "Epoch 7/30\n",
      "115/115 [==============================] - 0s 4ms/step - loss: 1.0239 - accuracy: 0.4935\n",
      "Epoch 8/30\n",
      "115/115 [==============================] - 0s 3ms/step - loss: 0.9345 - accuracy: 0.5239\n",
      "Epoch 9/30\n",
      "115/115 [==============================] - 0s 3ms/step - loss: 0.9600 - accuracy: 0.4961\n",
      "Epoch 10/30\n",
      "115/115 [==============================] - 0s 3ms/step - loss: 0.9530 - accuracy: 0.4996\n",
      "Epoch 11/30\n",
      "115/115 [==============================] - 0s 4ms/step - loss: 0.9755 - accuracy: 0.4970\n",
      "Epoch 12/30\n",
      "115/115 [==============================] - 0s 3ms/step - loss: 1.0235 - accuracy: 0.4952\n",
      "Epoch 13/30\n",
      "115/115 [==============================] - 0s 4ms/step - loss: 0.9553 - accuracy: 0.5170\n",
      "Epoch 14/30\n",
      "115/115 [==============================] - 1s 6ms/step - loss: 1.0963 - accuracy: 0.4761\n",
      "Epoch 15/30\n",
      "115/115 [==============================] - 1s 6ms/step - loss: 1.0412 - accuracy: 0.4883\n",
      "Epoch 16/30\n",
      "115/115 [==============================] - 1s 7ms/step - loss: 0.9884 - accuracy: 0.4917\n",
      "Epoch 17/30\n",
      "115/115 [==============================] - 1s 9ms/step - loss: 1.0761 - accuracy: 0.4682\n",
      "Epoch 18/30\n",
      "115/115 [==============================] - 0s 4ms/step - loss: 1.0494 - accuracy: 0.5065\n",
      "Epoch 19/30\n",
      "115/115 [==============================] - 0s 4ms/step - loss: 1.0061 - accuracy: 0.4909\n",
      "Epoch 20/30\n",
      "115/115 [==============================] - 0s 4ms/step - loss: 0.9945 - accuracy: 0.5013\n",
      "Epoch 21/30\n",
      "115/115 [==============================] - 0s 3ms/step - loss: 1.0436 - accuracy: 0.5057\n",
      "Epoch 22/30\n",
      "115/115 [==============================] - 0s 3ms/step - loss: 1.0240 - accuracy: 0.5004\n",
      "Epoch 23/30\n",
      "115/115 [==============================] - 0s 3ms/step - loss: 1.0096 - accuracy: 0.4987\n",
      "Epoch 24/30\n",
      "115/115 [==============================] - 1s 7ms/step - loss: 0.9776 - accuracy: 0.5144\n",
      "Epoch 25/30\n",
      "115/115 [==============================] - 1s 7ms/step - loss: 0.9770 - accuracy: 0.5126\n",
      "Epoch 26/30\n",
      "115/115 [==============================] - 0s 3ms/step - loss: 1.0507 - accuracy: 0.4891\n",
      "Epoch 27/30\n",
      "115/115 [==============================] - 1s 5ms/step - loss: 0.9955 - accuracy: 0.5030\n",
      "Epoch 28/30\n",
      "115/115 [==============================] - 0s 4ms/step - loss: 0.9654 - accuracy: 0.5126\n",
      "Epoch 29/30\n",
      "115/115 [==============================] - 1s 7ms/step - loss: 0.9493 - accuracy: 0.5161\n",
      "Epoch 30/30\n",
      "115/115 [==============================] - 1s 5ms/step - loss: 0.9883 - accuracy: 0.4978\n"
     ]
    },
    {
     "data": {
      "image/png": "[encoded data removed]",
      "text/plain": [
       "<Figure size 720x360 with 2 Axes>"
      ]
     },
     "metadata": {
      "needs_background": "light"
     },
     "output_type": "display_data"
    }
   ],
   "source": [
    "model = Sequential()\n",
    "\n",
    "sgd = SGD(lr=9)\n",
    "model.add(Dense(12, activation='relu', input_dim=64))\n",
    "model.add(Dense(8, activation='relu'))\n",
    "model.add(Dense(1, activation='sigmoid'))\n",
    "\n",
    "model.compile(optimizer=sgd,\n",
    "              loss='binary_crossentropy',\n",
    "              metrics=['accuracy'])\n",
    "\n",
    "results = model.fit(X_pure_train, y_pure_train,\n",
    "                    epochs=30, batch_size=10, verbose=1)\n",
    "\n",
    "relu_loss = results.history['loss']\n",
    "relu_accuracy = results.history['accuracy']\n",
    "\n",
    "fig, (ax1, ax2) = plt.subplots(1, 2, figsize=(10, 5))\n",
    "sns.lineplot(x=results.epoch, y=relu_loss, ax=ax1, label='loss')\n",
    "sns.lineplot(x=results.epoch, y=relu_accuracy, ax=ax2, label='accuracy');"
   ]
  },
  {
   "cell_type": "markdown",
   "metadata": {},
   "source": [
    "### Exercise\n",
    "\n",
    "We have been looking only at our training set. Let's add in our validation set to the picture. Check the docstring for the `.fit()` method and add in our validation data."
   ]
  },
  {
   "cell_type": "code",
   "execution_count": 13,
   "metadata": {
    "scrolled": false
   },
   "outputs": [
    {
     "name": "stdout",
     "output_type": "stream",
     "text": [
      "Epoch 1/30\n",
      "115/115 [==============================] - 1s 10ms/step - loss: 0.6954 - accuracy: 0.5152 - val_loss: 0.6341 - val_accuracy: 0.5938\n",
      "Epoch 2/30\n",
      "115/115 [==============================] - 1s 6ms/step - loss: 0.5886 - accuracy: 0.7171 - val_loss: 0.5190 - val_accuracy: 0.8472\n",
      "Epoch 3/30\n",
      "115/115 [==============================] - 0s 4ms/step - loss: 0.4821 - accuracy: 0.8529 - val_loss: 0.4352 - val_accuracy: 0.9028\n",
      "Epoch 4/30\n",
      "115/115 [==============================] - 1s 5ms/step - loss: 0.4155 - accuracy: 0.8999 - val_loss: 0.3803 - val_accuracy: 0.9236\n",
      "Epoch 5/30\n",
      "115/115 [==============================] - 0s 4ms/step - loss: 0.3715 - accuracy: 0.9234 - val_loss: 0.3394 - val_accuracy: 0.9375\n",
      "Epoch 6/30\n",
      "115/115 [==============================] - 0s 4ms/step - loss: 0.3373 - accuracy: 0.9304 - val_loss: 0.3153 - val_accuracy: 0.9271\n",
      "Epoch 7/30\n",
      "115/115 [==============================] - 0s 4ms/step - loss: 0.3096 - accuracy: 0.9408 - val_loss: 0.2868 - val_accuracy: 0.9444\n",
      "Epoch 8/30\n",
      "115/115 [==============================] - 0s 4ms/step - loss: 0.2872 - accuracy: 0.9469 - val_loss: 0.2708 - val_accuracy: 0.9514\n",
      "Epoch 9/30\n",
      "115/115 [==============================] - 0s 4ms/step - loss: 0.2619 - accuracy: 0.9582 - val_loss: 0.2611 - val_accuracy: 0.9514\n",
      "Epoch 10/30\n",
      "115/115 [==============================] - 1s 8ms/step - loss: 0.2462 - accuracy: 0.9617 - val_loss: 0.2291 - val_accuracy: 0.9618\n",
      "Epoch 11/30\n",
      "115/115 [==============================] - 1s 6ms/step - loss: 0.2239 - accuracy: 0.9713 - val_loss: 0.2103 - val_accuracy: 0.9722\n",
      "Epoch 12/30\n",
      "115/115 [==============================] - 1s 4ms/step - loss: 0.2046 - accuracy: 0.9800 - val_loss: 0.1996 - val_accuracy: 0.9722\n",
      "Epoch 13/30\n",
      "115/115 [==============================] - 1s 4ms/step - loss: 0.1869 - accuracy: 0.9843 - val_loss: 0.1927 - val_accuracy: 0.9688\n",
      "Epoch 14/30\n",
      "115/115 [==============================] - 1s 12ms/step - loss: 0.1749 - accuracy: 0.9817 - val_loss: 0.1922 - val_accuracy: 0.9688\n",
      "Epoch 15/30\n",
      "115/115 [==============================] - 1s 5ms/step - loss: 0.1672 - accuracy: 0.9835 - val_loss: 0.1659 - val_accuracy: 0.9722\n",
      "Epoch 16/30\n",
      "115/115 [==============================] - 1s 6ms/step - loss: 0.1500 - accuracy: 0.9869 - val_loss: 0.1616 - val_accuracy: 0.9688\n",
      "Epoch 17/30\n",
      "115/115 [==============================] - 1s 6ms/step - loss: 0.1374 - accuracy: 0.9896 - val_loss: 0.1517 - val_accuracy: 0.9757\n",
      "Epoch 18/30\n",
      "115/115 [==============================] - 1s 7ms/step - loss: 0.1316 - accuracy: 0.9852 - val_loss: 0.1448 - val_accuracy: 0.9722\n",
      "Epoch 19/30\n",
      "115/115 [==============================] - 1s 5ms/step - loss: 0.1222 - accuracy: 0.9904 - val_loss: 0.1475 - val_accuracy: 0.9688\n",
      "Epoch 20/30\n",
      "115/115 [==============================] - 1s 6ms/step - loss: 0.1151 - accuracy: 0.9913 - val_loss: 0.1302 - val_accuracy: 0.9688\n",
      "Epoch 21/30\n",
      "115/115 [==============================] - 1s 6ms/step - loss: 0.1043 - accuracy: 0.9930 - val_loss: 0.1265 - val_accuracy: 0.9688\n",
      "Epoch 22/30\n",
      "115/115 [==============================] - 0s 4ms/step - loss: 0.0970 - accuracy: 0.9956 - val_loss: 0.1204 - val_accuracy: 0.9688\n",
      "Epoch 23/30\n",
      "115/115 [==============================] - 1s 10ms/step - loss: 0.0925 - accuracy: 0.9948 - val_loss: 0.1127 - val_accuracy: 0.9722\n",
      "Epoch 24/30\n",
      "115/115 [==============================] - 1s 6ms/step - loss: 0.0852 - accuracy: 0.9956 - val_loss: 0.1105 - val_accuracy: 0.9757\n",
      "Epoch 25/30\n",
      "115/115 [==============================] - 1s 10ms/step - loss: 0.0823 - accuracy: 0.9930 - val_loss: 0.1021 - val_accuracy: 0.9757\n",
      "Epoch 26/30\n",
      "115/115 [==============================] - 1s 6ms/step - loss: 0.0770 - accuracy: 0.9948 - val_loss: 0.1011 - val_accuracy: 0.9757\n",
      "Epoch 27/30\n",
      "115/115 [==============================] - 1s 7ms/step - loss: 0.0752 - accuracy: 0.9956 - val_loss: 0.0992 - val_accuracy: 0.9688\n",
      "Epoch 28/30\n",
      "115/115 [==============================] - 1s 5ms/step - loss: 0.0674 - accuracy: 0.9956 - val_loss: 0.0915 - val_accuracy: 0.9722\n",
      "Epoch 29/30\n",
      "115/115 [==============================] - 1s 5ms/step - loss: 0.0643 - accuracy: 0.9983 - val_loss: 0.0927 - val_accuracy: 0.9757\n",
      "Epoch 30/30\n",
      "115/115 [==============================] - 1s 6ms/step - loss: 0.0586 - accuracy: 0.9965 - val_loss: 0.0755 - val_accuracy: 0.9826\n"
     ]
    },
    {
     "data": {
      "image/png": "[encoded data removed]",
      "text/plain": [
       "<Figure size 720x360 with 2 Axes>"
      ]
     },
     "metadata": {
      "needs_background": "light"
     },
     "output_type": "display_data"
    }
   ],
   "source": [
    "model = Sequential()\n",
    "model.add(Dense(12, activation='relu', input_dim=64))\n",
    "model.add(Dense(8, activation='relu'))\n",
    "model.add(Dense(4, activation='relu'))\n",
    "model.add(Dense(1, activation='sigmoid'))\n",
    "\n",
    "model.compile(optimizer='adam',\n",
    "              loss='binary_crossentropy',\n",
    "              metrics=['accuracy'])\n",
    "\n",
    "\n",
    "## YOUR CODE HERE\n",
    "results = model.fit(X_pure_train, y_pure_train, epochs=30, batch_size=10,\n",
    "                   verbose=1, validation_data=(X_val, y_val))\n",
    "\n",
    "train_loss = results.history['loss']\n",
    "train_acc = results.history['accuracy']\n",
    "val_loss = results.history['val_loss']\n",
    "val_acc = results.history['val_accuracy']\n",
    "\n",
    "fig, (ax1, ax2) = plt.subplots(1, 2, figsize=(10, 5))\n",
    "sns.lineplot(x=results.epoch, y=train_loss, ax=ax1, label='train_loss')\n",
    "sns.lineplot(x=results.epoch, y=train_acc, ax=ax2, label='train_accuracy')\n",
    "\n",
    "sns.lineplot(x=results.epoch, y=val_loss, ax=ax1, label='val_loss')\n",
    "sns.lineplot(x=results.epoch, y=val_acc, ax=ax2, label='val_accuracy');"
   ]
  },
  {
   "cell_type": "code",
   "execution_count": 14,
   "metadata": {},
   "outputs": [
    {
     "data": {
      "text/plain": [
       "0.9826388955116272"
      ]
     },
     "execution_count": 14,
     "metadata": {},
     "output_type": "execute_result"
    }
   ],
   "source": [
    "results.history['val_accuracy'][-1]"
   ]
  },
  {
   "cell_type": "markdown",
   "metadata": {},
   "source": [
    "## Connecting with `sklearn`\n",
    "\n",
    "The `keras.wrappers` submodule means that we can turn `keras` models into estimators that `sklearn` tools will recognize."
   ]
  },
  {
   "cell_type": "code",
   "execution_count": 15,
   "metadata": {},
   "outputs": [
    {
     "ename": "TypeError",
     "evalue": "If no scoring is specified, the estimator passed should have a 'score' method. The estimator <tensorflow.python.keras.engine.sequential.Sequential object at 0x7facbbe2ed00> does not.",
     "output_type": "error",
     "traceback": [
      "\u001b[0;31m---------------------------------------------------------------------------\u001b[0m",
      "\u001b[0;31mTypeError\u001b[0m                                 Traceback (most recent call last)",
      "\u001b[0;32m<ipython-input-15-440685741601>\u001b[0m in \u001b[0;36m<module>\u001b[0;34m\u001b[0m\n\u001b[1;32m      1\u001b[0m \u001b[0;31m# This will throw an error.\u001b[0m\u001b[0;34m\u001b[0m\u001b[0;34m\u001b[0m\u001b[0;34m\u001b[0m\u001b[0m\n\u001b[1;32m      2\u001b[0m \u001b[0;34m\u001b[0m\u001b[0m\n\u001b[0;32m----> 3\u001b[0;31m \u001b[0mcross_val_score\u001b[0m\u001b[0;34m(\u001b[0m\u001b[0mmodel\u001b[0m\u001b[0;34m,\u001b[0m \u001b[0mX_pure_train\u001b[0m\u001b[0;34m,\u001b[0m \u001b[0my_pure_train\u001b[0m\u001b[0;34m)\u001b[0m\u001b[0;34m\u001b[0m\u001b[0;34m\u001b[0m\u001b[0m\n\u001b[0m",
      "\u001b[0;32m~/opt/anaconda3/envs/learn-env/lib/python3.8/site-packages/sklearn/utils/validation.py\u001b[0m in \u001b[0;36minner_f\u001b[0;34m(*args, **kwargs)\u001b[0m\n\u001b[1;32m     70\u001b[0m                           FutureWarning)\n\u001b[1;32m     71\u001b[0m         \u001b[0mkwargs\u001b[0m\u001b[0;34m.\u001b[0m\u001b[0mupdate\u001b[0m\u001b[0;34m(\u001b[0m\u001b[0;34m{\u001b[0m\u001b[0mk\u001b[0m\u001b[0;34m:\u001b[0m \u001b[0marg\u001b[0m \u001b[0;32mfor\u001b[0m \u001b[0mk\u001b[0m\u001b[0;34m,\u001b[0m \u001b[0marg\u001b[0m \u001b[0;32min\u001b[0m \u001b[0mzip\u001b[0m\u001b[0;34m(\u001b[0m\u001b[0msig\u001b[0m\u001b[0;34m.\u001b[0m\u001b[0mparameters\u001b[0m\u001b[0;34m,\u001b[0m \u001b[0margs\u001b[0m\u001b[0;34m)\u001b[0m\u001b[0;34m}\u001b[0m\u001b[0;34m)\u001b[0m\u001b[0;34m\u001b[0m\u001b[0;34m\u001b[0m\u001b[0m\n\u001b[0;32m---> 72\u001b[0;31m         \u001b[0;32mreturn\u001b[0m \u001b[0mf\u001b[0m\u001b[0;34m(\u001b[0m\u001b[0;34m**\u001b[0m\u001b[0mkwargs\u001b[0m\u001b[0;34m)\u001b[0m\u001b[0;34m\u001b[0m\u001b[0;34m\u001b[0m\u001b[0m\n\u001b[0m\u001b[1;32m     73\u001b[0m     \u001b[0;32mreturn\u001b[0m \u001b[0minner_f\u001b[0m\u001b[0;34m\u001b[0m\u001b[0;34m\u001b[0m\u001b[0m\n\u001b[1;32m     74\u001b[0m \u001b[0;34m\u001b[0m\u001b[0m\n",
      "\u001b[0;32m~/opt/anaconda3/envs/learn-env/lib/python3.8/site-packages/sklearn/model_selection/_validation.py\u001b[0m in \u001b[0;36mcross_val_score\u001b[0;34m(estimator, X, y, groups, scoring, cv, n_jobs, verbose, fit_params, pre_dispatch, error_score)\u001b[0m\n\u001b[1;32m    397\u001b[0m     \"\"\"\n\u001b[1;32m    398\u001b[0m     \u001b[0;31m# To ensure multimetric format is not supported\u001b[0m\u001b[0;34m\u001b[0m\u001b[0;34m\u001b[0m\u001b[0;34m\u001b[0m\u001b[0m\n\u001b[0;32m--> 399\u001b[0;31m     \u001b[0mscorer\u001b[0m \u001b[0;34m=\u001b[0m \u001b[0mcheck_scoring\u001b[0m\u001b[0;34m(\u001b[0m\u001b[0mestimator\u001b[0m\u001b[0;34m,\u001b[0m \u001b[0mscoring\u001b[0m\u001b[0;34m=\u001b[0m\u001b[0mscoring\u001b[0m\u001b[0;34m)\u001b[0m\u001b[0;34m\u001b[0m\u001b[0;34m\u001b[0m\u001b[0m\n\u001b[0m\u001b[1;32m    400\u001b[0m \u001b[0;34m\u001b[0m\u001b[0m\n\u001b[1;32m    401\u001b[0m     cv_results = cross_validate(estimator=estimator, X=X, y=y, groups=groups,\n",
      "\u001b[0;32m~/opt/anaconda3/envs/learn-env/lib/python3.8/site-packages/sklearn/utils/validation.py\u001b[0m in \u001b[0;36minner_f\u001b[0;34m(*args, **kwargs)\u001b[0m\n\u001b[1;32m     70\u001b[0m                           FutureWarning)\n\u001b[1;32m     71\u001b[0m         \u001b[0mkwargs\u001b[0m\u001b[0;34m.\u001b[0m\u001b[0mupdate\u001b[0m\u001b[0;34m(\u001b[0m\u001b[0;34m{\u001b[0m\u001b[0mk\u001b[0m\u001b[0;34m:\u001b[0m \u001b[0marg\u001b[0m \u001b[0;32mfor\u001b[0m \u001b[0mk\u001b[0m\u001b[0;34m,\u001b[0m \u001b[0marg\u001b[0m \u001b[0;32min\u001b[0m \u001b[0mzip\u001b[0m\u001b[0;34m(\u001b[0m\u001b[0msig\u001b[0m\u001b[0;34m.\u001b[0m\u001b[0mparameters\u001b[0m\u001b[0;34m,\u001b[0m \u001b[0margs\u001b[0m\u001b[0;34m)\u001b[0m\u001b[0;34m}\u001b[0m\u001b[0;34m)\u001b[0m\u001b[0;34m\u001b[0m\u001b[0;34m\u001b[0m\u001b[0m\n\u001b[0;32m---> 72\u001b[0;31m         \u001b[0;32mreturn\u001b[0m \u001b[0mf\u001b[0m\u001b[0;34m(\u001b[0m\u001b[0;34m**\u001b[0m\u001b[0mkwargs\u001b[0m\u001b[0;34m)\u001b[0m\u001b[0;34m\u001b[0m\u001b[0;34m\u001b[0m\u001b[0m\n\u001b[0m\u001b[1;32m     73\u001b[0m     \u001b[0;32mreturn\u001b[0m \u001b[0minner_f\u001b[0m\u001b[0;34m\u001b[0m\u001b[0;34m\u001b[0m\u001b[0m\n\u001b[1;32m     74\u001b[0m \u001b[0;34m\u001b[0m\u001b[0m\n",
      "\u001b[0;32m~/opt/anaconda3/envs/learn-env/lib/python3.8/site-packages/sklearn/metrics/_scorer.py\u001b[0m in \u001b[0;36mcheck_scoring\u001b[0;34m(estimator, scoring, allow_none)\u001b[0m\n\u001b[1;32m    423\u001b[0m             \u001b[0;32mreturn\u001b[0m \u001b[0;32mNone\u001b[0m\u001b[0;34m\u001b[0m\u001b[0;34m\u001b[0m\u001b[0m\n\u001b[1;32m    424\u001b[0m         \u001b[0;32melse\u001b[0m\u001b[0;34m:\u001b[0m\u001b[0;34m\u001b[0m\u001b[0;34m\u001b[0m\u001b[0m\n\u001b[0;32m--> 425\u001b[0;31m             raise TypeError(\n\u001b[0m\u001b[1;32m    426\u001b[0m                 \u001b[0;34m\"If no scoring is specified, the estimator passed should \"\u001b[0m\u001b[0;34m\u001b[0m\u001b[0;34m\u001b[0m\u001b[0m\n\u001b[1;32m    427\u001b[0m                 \u001b[0;34m\"have a 'score' method. The estimator %r does not.\"\u001b[0m\u001b[0;34m\u001b[0m\u001b[0;34m\u001b[0m\u001b[0m\n",
      "\u001b[0;31mTypeError\u001b[0m: If no scoring is specified, the estimator passed should have a 'score' method. The estimator <tensorflow.python.keras.engine.sequential.Sequential object at 0x7facbbe2ed00> does not."
     ]
    }
   ],
   "source": [
    "# This will throw an error.\n",
    "\n",
    "cross_val_score(model, X_pure_train, y_pure_train)"
   ]
  },
  {
   "cell_type": "code",
   "execution_count": 16,
   "metadata": {},
   "outputs": [],
   "source": [
    "def build_model():\n",
    "    model = Sequential()\n",
    "    model.add(Dense(12, activation='relu', input_dim=64))\n",
    "    model.add(Dense(8, activation='relu'))\n",
    "    model.add(Dense(4, activation='relu'))\n",
    "    model.add(Dense(1, activation = 'sigmoid'))\n",
    "\n",
    "    model.compile(optimizer='adam',\n",
    "                  loss='binary_crossentropy',\n",
    "                  metrics=['accuracy'])\n",
    "    return model"
   ]
  },
  {
   "cell_type": "code",
   "execution_count": 17,
   "metadata": {},
   "outputs": [],
   "source": [
    "#KerasClassifier reads the model function through the sklearn wrapper - acts as a .fit method\n",
    "keras_model = scikit_learn.KerasClassifier(build_model,\n",
    "                                          epochs=50,\n",
    "                                          batch_size=32,\n",
    "                                          verbose=2)"
   ]
  },
  {
   "cell_type": "code",
   "execution_count": 18,
   "metadata": {},
   "outputs": [
    {
     "data": {
      "text/plain": [
       "tensorflow.python.keras.wrappers.scikit_learn.KerasClassifier"
      ]
     },
     "execution_count": 18,
     "metadata": {},
     "output_type": "execute_result"
    }
   ],
   "source": [
    "type(keras_model)"
   ]
  },
  {
   "cell_type": "code",
   "execution_count": 19,
   "metadata": {},
   "outputs": [
    {
     "name": "stdout",
     "output_type": "stream",
     "text": [
      "Epoch 1/50\n",
      "29/29 - 0s - loss: 0.6473 - accuracy: 0.5473\n",
      "Epoch 2/50\n",
      "29/29 - 0s - loss: 0.6013 - accuracy: 0.6431\n",
      "Epoch 3/50\n",
      "29/29 - 0s - loss: 0.5538 - accuracy: 0.7780\n",
      "Epoch 4/50\n",
      "29/29 - 0s - loss: 0.5118 - accuracy: 0.8074\n",
      "Epoch 5/50\n",
      "29/29 - 0s - loss: 0.4757 - accuracy: 0.8390\n",
      "Epoch 6/50\n",
      "29/29 - 0s - loss: 0.4457 - accuracy: 0.8683\n",
      "Epoch 7/50\n",
      "29/29 - 0s - loss: 0.4157 - accuracy: 0.8945\n",
      "Epoch 8/50\n",
      "29/29 - 0s - loss: 0.3881 - accuracy: 0.9053\n",
      "Epoch 9/50\n",
      "29/29 - 0s - loss: 0.3552 - accuracy: 0.9217\n",
      "Epoch 10/50\n",
      "29/29 - 0s - loss: 0.3136 - accuracy: 0.9304\n",
      "Epoch 11/50\n",
      "29/29 - 0s - loss: 0.2655 - accuracy: 0.9369\n",
      "Epoch 12/50\n",
      "29/29 - 0s - loss: 0.2219 - accuracy: 0.9434\n",
      "Epoch 13/50\n",
      "29/29 - 0s - loss: 0.1927 - accuracy: 0.9434\n",
      "Epoch 14/50\n",
      "29/29 - 0s - loss: 0.1746 - accuracy: 0.9521\n",
      "Epoch 15/50\n",
      "29/29 - 0s - loss: 0.1563 - accuracy: 0.9489\n",
      "Epoch 16/50\n",
      "29/29 - 0s - loss: 0.1439 - accuracy: 0.9576\n",
      "Epoch 17/50\n",
      "29/29 - 0s - loss: 0.1341 - accuracy: 0.9576\n",
      "Epoch 18/50\n",
      "29/29 - 0s - loss: 0.1264 - accuracy: 0.9619\n",
      "Epoch 19/50\n",
      "29/29 - 0s - loss: 0.1128 - accuracy: 0.9695\n",
      "Epoch 20/50\n",
      "29/29 - 0s - loss: 0.1032 - accuracy: 0.9663\n",
      "Epoch 21/50\n",
      "29/29 - 0s - loss: 0.0914 - accuracy: 0.9739\n",
      "Epoch 22/50\n",
      "29/29 - 0s - loss: 0.0829 - accuracy: 0.9750\n",
      "Epoch 23/50\n",
      "29/29 - 0s - loss: 0.0807 - accuracy: 0.9750\n",
      "Epoch 24/50\n",
      "29/29 - 0s - loss: 0.0762 - accuracy: 0.9750\n",
      "Epoch 25/50\n",
      "29/29 - 0s - loss: 0.0677 - accuracy: 0.9750\n",
      "Epoch 26/50\n",
      "29/29 - 0s - loss: 0.0627 - accuracy: 0.9804\n",
      "Epoch 27/50\n",
      "29/29 - 0s - loss: 0.0554 - accuracy: 0.9837\n",
      "Epoch 28/50\n",
      "29/29 - 0s - loss: 0.0502 - accuracy: 0.9891\n",
      "Epoch 29/50\n",
      "29/29 - 0s - loss: 0.0466 - accuracy: 0.9880\n",
      "Epoch 30/50\n",
      "29/29 - 0s - loss: 0.0437 - accuracy: 0.9891\n",
      "Epoch 31/50\n",
      "29/29 - 0s - loss: 0.0408 - accuracy: 0.9902\n",
      "Epoch 32/50\n",
      "29/29 - 0s - loss: 0.0384 - accuracy: 0.9880\n",
      "Epoch 33/50\n",
      "29/29 - 0s - loss: 0.0348 - accuracy: 0.9924\n",
      "Epoch 34/50\n",
      "29/29 - 0s - loss: 0.0344 - accuracy: 0.9924\n",
      "Epoch 35/50\n",
      "29/29 - 0s - loss: 0.0322 - accuracy: 0.9924\n",
      "Epoch 36/50\n",
      "29/29 - 0s - loss: 0.0298 - accuracy: 0.9935\n",
      "Epoch 37/50\n",
      "29/29 - 0s - loss: 0.0313 - accuracy: 0.9946\n",
      "Epoch 38/50\n",
      "29/29 - 0s - loss: 0.0253 - accuracy: 0.9956\n",
      "Epoch 39/50\n",
      "29/29 - 0s - loss: 0.0254 - accuracy: 0.9956\n",
      "Epoch 40/50\n",
      "29/29 - 0s - loss: 0.0240 - accuracy: 0.9967\n",
      "Epoch 41/50\n",
      "29/29 - 0s - loss: 0.0214 - accuracy: 0.9978\n",
      "Epoch 42/50\n",
      "29/29 - 0s - loss: 0.0205 - accuracy: 0.9989\n",
      "Epoch 43/50\n",
      "29/29 - 0s - loss: 0.0202 - accuracy: 0.9967\n",
      "Epoch 44/50\n",
      "29/29 - 0s - loss: 0.0178 - accuracy: 0.9989\n",
      "Epoch 45/50\n",
      "29/29 - 0s - loss: 0.0176 - accuracy: 0.9978\n",
      "Epoch 46/50\n",
      "29/29 - 0s - loss: 0.0159 - accuracy: 1.0000\n",
      "Epoch 47/50\n",
      "29/29 - 0s - loss: 0.0157 - accuracy: 1.0000\n",
      "Epoch 48/50\n",
      "29/29 - 0s - loss: 0.0142 - accuracy: 1.0000\n",
      "Epoch 49/50\n",
      "29/29 - 0s - loss: 0.0135 - accuracy: 1.0000\n",
      "Epoch 50/50\n",
      "29/29 - 0s - loss: 0.0125 - accuracy: 1.0000\n",
      "8/8 - 0s - loss: 0.0645 - accuracy: 0.9696\n",
      "Epoch 1/50\n",
      "29/29 - 0s - loss: 0.6812 - accuracy: 0.5560\n",
      "Epoch 2/50\n",
      "29/29 - 0s - loss: 0.6180 - accuracy: 0.7203\n",
      "Epoch 3/50\n",
      "29/29 - 0s - loss: 0.5525 - accuracy: 0.7737\n",
      "Epoch 4/50\n",
      "29/29 - 0s - loss: 0.4704 - accuracy: 0.8096\n",
      "Epoch 5/50\n",
      "29/29 - 0s - loss: 0.3851 - accuracy: 0.8466\n",
      "Epoch 6/50\n",
      "29/29 - 0s - loss: 0.3051 - accuracy: 0.8814\n",
      "Epoch 7/50\n",
      "29/29 - 0s - loss: 0.2478 - accuracy: 0.9173\n",
      "Epoch 8/50\n",
      "29/29 - 0s - loss: 0.2148 - accuracy: 0.9151\n",
      "Epoch 9/50\n",
      "29/29 - 0s - loss: 0.1929 - accuracy: 0.9260\n",
      "Epoch 10/50\n",
      "29/29 - 0s - loss: 0.1776 - accuracy: 0.9293\n",
      "Epoch 11/50\n",
      "29/29 - 0s - loss: 0.1607 - accuracy: 0.9402\n",
      "Epoch 12/50\n",
      "29/29 - 0s - loss: 0.1449 - accuracy: 0.9412\n",
      "Epoch 13/50\n",
      "29/29 - 0s - loss: 0.1368 - accuracy: 0.9402\n",
      "Epoch 14/50\n",
      "29/29 - 0s - loss: 0.1290 - accuracy: 0.9467\n",
      "Epoch 15/50\n",
      "29/29 - 0s - loss: 0.1165 - accuracy: 0.9521\n",
      "Epoch 16/50\n",
      "29/29 - 0s - loss: 0.1105 - accuracy: 0.9608\n",
      "Epoch 17/50\n",
      "29/29 - 0s - loss: 0.1011 - accuracy: 0.9608\n",
      "Epoch 18/50\n",
      "29/29 - 0s - loss: 0.0987 - accuracy: 0.9587\n",
      "Epoch 19/50\n",
      "29/29 - 0s - loss: 0.0909 - accuracy: 0.9641\n",
      "Epoch 20/50\n",
      "29/29 - 0s - loss: 0.0867 - accuracy: 0.9684\n",
      "Epoch 21/50\n",
      "29/29 - 0s - loss: 0.0818 - accuracy: 0.9684\n",
      "Epoch 22/50\n",
      "29/29 - 0s - loss: 0.0769 - accuracy: 0.9717\n",
      "Epoch 23/50\n",
      "29/29 - 0s - loss: 0.0753 - accuracy: 0.9706\n",
      "Epoch 24/50\n",
      "29/29 - 0s - loss: 0.0749 - accuracy: 0.9717\n",
      "Epoch 25/50\n",
      "29/29 - 0s - loss: 0.0685 - accuracy: 0.9750\n",
      "Epoch 26/50\n",
      "29/29 - 0s - loss: 0.0634 - accuracy: 0.9826\n",
      "Epoch 27/50\n",
      "29/29 - 0s - loss: 0.0618 - accuracy: 0.9804\n",
      "Epoch 28/50\n",
      "29/29 - 0s - loss: 0.0618 - accuracy: 0.9804\n",
      "Epoch 29/50\n",
      "29/29 - 0s - loss: 0.0543 - accuracy: 0.9837\n",
      "Epoch 30/50\n",
      "29/29 - 0s - loss: 0.0549 - accuracy: 0.9869\n",
      "Epoch 31/50\n",
      "29/29 - 0s - loss: 0.0495 - accuracy: 0.9869\n",
      "Epoch 32/50\n",
      "29/29 - 0s - loss: 0.0466 - accuracy: 0.9869\n",
      "Epoch 33/50\n",
      "29/29 - 0s - loss: 0.0439 - accuracy: 0.9891\n",
      "Epoch 34/50\n",
      "29/29 - 1s - loss: 0.0423 - accuracy: 0.9880\n",
      "Epoch 35/50\n",
      "29/29 - 0s - loss: 0.0408 - accuracy: 0.9891\n",
      "Epoch 36/50\n",
      "29/29 - 0s - loss: 0.0393 - accuracy: 0.9902\n",
      "Epoch 37/50\n",
      "29/29 - 0s - loss: 0.0380 - accuracy: 0.9880\n",
      "Epoch 38/50\n",
      "29/29 - 0s - loss: 0.0366 - accuracy: 0.9913\n",
      "Epoch 39/50\n",
      "29/29 - 0s - loss: 0.0362 - accuracy: 0.9913\n",
      "Epoch 40/50\n",
      "29/29 - 0s - loss: 0.0320 - accuracy: 0.9913\n",
      "Epoch 41/50\n",
      "29/29 - 0s - loss: 0.0301 - accuracy: 0.9935\n",
      "Epoch 42/50\n",
      "29/29 - 0s - loss: 0.0306 - accuracy: 0.9935\n",
      "Epoch 43/50\n",
      "29/29 - 0s - loss: 0.0271 - accuracy: 0.9956\n",
      "Epoch 44/50\n",
      "29/29 - 0s - loss: 0.0288 - accuracy: 0.9935\n",
      "Epoch 45/50\n",
      "29/29 - 0s - loss: 0.0259 - accuracy: 0.9935\n",
      "Epoch 46/50\n",
      "29/29 - 0s - loss: 0.0263 - accuracy: 0.9935\n",
      "Epoch 47/50\n",
      "29/29 - 0s - loss: 0.0235 - accuracy: 0.9946\n",
      "Epoch 48/50\n",
      "29/29 - 0s - loss: 0.0244 - accuracy: 0.9935\n",
      "Epoch 49/50\n",
      "29/29 - 0s - loss: 0.0226 - accuracy: 0.9946\n",
      "Epoch 50/50\n",
      "29/29 - 0s - loss: 0.0208 - accuracy: 0.9967\n",
      "8/8 - 0s - loss: 0.0851 - accuracy: 0.9522\n",
      "Epoch 1/50\n",
      "29/29 - 0s - loss: 0.7053 - accuracy: 0.5092\n",
      "Epoch 2/50\n",
      "29/29 - 0s - loss: 0.6708 - accuracy: 0.5190\n",
      "Epoch 3/50\n",
      "29/29 - 0s - loss: 0.6332 - accuracy: 0.5604\n",
      "Epoch 4/50\n",
      "29/29 - 0s - loss: 0.5884 - accuracy: 0.6289\n",
      "Epoch 5/50\n",
      "29/29 - 0s - loss: 0.5308 - accuracy: 0.7704\n",
      "Epoch 6/50\n",
      "29/29 - 0s - loss: 0.4814 - accuracy: 0.8335\n",
      "Epoch 7/50\n",
      "29/29 - 0s - loss: 0.4472 - accuracy: 0.8542\n",
      "Epoch 8/50\n",
      "29/29 - 0s - loss: 0.4074 - accuracy: 0.8727\n",
      "Epoch 9/50\n",
      "29/29 - 0s - loss: 0.3575 - accuracy: 0.8868\n",
      "Epoch 10/50\n",
      "29/29 - 0s - loss: 0.3029 - accuracy: 0.8977\n",
      "Epoch 11/50\n",
      "29/29 - 0s - loss: 0.2620 - accuracy: 0.8955\n",
      "Epoch 12/50\n",
      "29/29 - 0s - loss: 0.2359 - accuracy: 0.9010\n",
      "Epoch 13/50\n",
      "29/29 - 0s - loss: 0.2253 - accuracy: 0.9097\n",
      "Epoch 14/50\n",
      "29/29 - 0s - loss: 0.2181 - accuracy: 0.9086\n",
      "Epoch 15/50\n",
      "29/29 - 0s - loss: 0.1982 - accuracy: 0.9195\n",
      "Epoch 16/50\n",
      "29/29 - 0s - loss: 0.1899 - accuracy: 0.9249\n",
      "Epoch 17/50\n",
      "29/29 - 0s - loss: 0.1849 - accuracy: 0.9304\n",
      "Epoch 18/50\n",
      "29/29 - 0s - loss: 0.1741 - accuracy: 0.9271\n",
      "Epoch 19/50\n",
      "29/29 - 0s - loss: 0.1683 - accuracy: 0.9293\n",
      "Epoch 20/50\n",
      "29/29 - 0s - loss: 0.1595 - accuracy: 0.9314\n",
      "Epoch 21/50\n",
      "29/29 - 0s - loss: 0.1529 - accuracy: 0.9358\n",
      "Epoch 22/50\n",
      "29/29 - 0s - loss: 0.1439 - accuracy: 0.9434\n",
      "Epoch 23/50\n",
      "29/29 - 0s - loss: 0.1358 - accuracy: 0.9423\n",
      "Epoch 24/50\n",
      "29/29 - 0s - loss: 0.1283 - accuracy: 0.9423\n",
      "Epoch 25/50\n",
      "29/29 - 0s - loss: 0.1280 - accuracy: 0.9510\n",
      "Epoch 26/50\n",
      "29/29 - 0s - loss: 0.1176 - accuracy: 0.9521\n",
      "Epoch 27/50\n",
      "29/29 - 0s - loss: 0.1132 - accuracy: 0.9499\n",
      "Epoch 28/50\n",
      "29/29 - 0s - loss: 0.1085 - accuracy: 0.9543\n",
      "Epoch 29/50\n",
      "29/29 - 0s - loss: 0.1011 - accuracy: 0.9587\n",
      "Epoch 30/50\n",
      "29/29 - 0s - loss: 0.1070 - accuracy: 0.9532\n",
      "Epoch 31/50\n",
      "29/29 - 0s - loss: 0.0959 - accuracy: 0.9619\n",
      "Epoch 32/50\n",
      "29/29 - 0s - loss: 0.0904 - accuracy: 0.9652\n",
      "Epoch 33/50\n",
      "29/29 - 0s - loss: 0.0828 - accuracy: 0.9684\n",
      "Epoch 34/50\n",
      "29/29 - 0s - loss: 0.0769 - accuracy: 0.9728\n",
      "Epoch 35/50\n",
      "29/29 - 0s - loss: 0.0773 - accuracy: 0.9706\n",
      "Epoch 36/50\n",
      "29/29 - 0s - loss: 0.0710 - accuracy: 0.9728\n",
      "Epoch 37/50\n",
      "29/29 - 0s - loss: 0.0660 - accuracy: 0.9771\n",
      "Epoch 38/50\n",
      "29/29 - 0s - loss: 0.0667 - accuracy: 0.9761\n",
      "Epoch 39/50\n",
      "29/29 - 0s - loss: 0.0649 - accuracy: 0.9761\n",
      "Epoch 40/50\n",
      "29/29 - 0s - loss: 0.0556 - accuracy: 0.9837\n",
      "Epoch 41/50\n",
      "29/29 - 0s - loss: 0.0565 - accuracy: 0.9848\n",
      "Epoch 42/50\n",
      "29/29 - 0s - loss: 0.0517 - accuracy: 0.9848\n",
      "Epoch 43/50\n",
      "29/29 - 0s - loss: 0.0480 - accuracy: 0.9891\n"
     ]
    },
    {
     "name": "stdout",
     "output_type": "stream",
     "text": [
      "Epoch 44/50\n",
      "29/29 - 0s - loss: 0.0454 - accuracy: 0.9880\n",
      "Epoch 45/50\n",
      "29/29 - 0s - loss: 0.0439 - accuracy: 0.9880\n",
      "Epoch 46/50\n",
      "29/29 - 0s - loss: 0.0409 - accuracy: 0.9891\n",
      "Epoch 47/50\n",
      "29/29 - 0s - loss: 0.0424 - accuracy: 0.9880\n",
      "Epoch 48/50\n",
      "29/29 - 0s - loss: 0.0378 - accuracy: 0.9924\n",
      "Epoch 49/50\n",
      "29/29 - 0s - loss: 0.0380 - accuracy: 0.9891\n",
      "Epoch 50/50\n",
      "29/29 - 0s - loss: 0.0351 - accuracy: 0.9946\n",
      "8/8 - 0s - loss: 0.0944 - accuracy: 0.9609\n",
      "Epoch 1/50\n",
      "29/29 - 0s - loss: 0.6388 - accuracy: 0.6790\n",
      "Epoch 2/50\n",
      "29/29 - 0s - loss: 0.5646 - accuracy: 0.7748\n",
      "Epoch 3/50\n",
      "29/29 - 0s - loss: 0.4770 - accuracy: 0.8270\n",
      "Epoch 4/50\n",
      "29/29 - 0s - loss: 0.3922 - accuracy: 0.8466\n",
      "Epoch 5/50\n",
      "29/29 - 0s - loss: 0.3374 - accuracy: 0.8629\n",
      "Epoch 6/50\n",
      "29/29 - 0s - loss: 0.2967 - accuracy: 0.8770\n",
      "Epoch 7/50\n",
      "29/29 - 0s - loss: 0.2734 - accuracy: 0.8825\n",
      "Epoch 8/50\n",
      "29/29 - 0s - loss: 0.2546 - accuracy: 0.8945\n",
      "Epoch 9/50\n",
      "29/29 - 0s - loss: 0.2381 - accuracy: 0.8977\n",
      "Epoch 10/50\n",
      "29/29 - 0s - loss: 0.2241 - accuracy: 0.9032\n",
      "Epoch 11/50\n",
      "29/29 - 0s - loss: 0.2105 - accuracy: 0.9075\n",
      "Epoch 12/50\n",
      "29/29 - 0s - loss: 0.1988 - accuracy: 0.9108\n",
      "Epoch 13/50\n",
      "29/29 - 0s - loss: 0.1888 - accuracy: 0.9129\n",
      "Epoch 14/50\n",
      "29/29 - 0s - loss: 0.1777 - accuracy: 0.9195\n",
      "Epoch 15/50\n",
      "29/29 - 0s - loss: 0.1677 - accuracy: 0.9260\n",
      "Epoch 16/50\n",
      "29/29 - 0s - loss: 0.1579 - accuracy: 0.9260\n",
      "Epoch 17/50\n",
      "29/29 - 0s - loss: 0.1466 - accuracy: 0.9358\n",
      "Epoch 18/50\n",
      "29/29 - 0s - loss: 0.1365 - accuracy: 0.9489\n",
      "Epoch 19/50\n",
      "29/29 - 0s - loss: 0.1288 - accuracy: 0.9489\n",
      "Epoch 20/50\n",
      "29/29 - 0s - loss: 0.1192 - accuracy: 0.9554\n",
      "Epoch 21/50\n",
      "29/29 - 0s - loss: 0.1109 - accuracy: 0.9587\n",
      "Epoch 22/50\n",
      "29/29 - 0s - loss: 0.1033 - accuracy: 0.9597\n",
      "Epoch 23/50\n",
      "29/29 - 0s - loss: 0.0970 - accuracy: 0.9608\n",
      "Epoch 24/50\n",
      "29/29 - 0s - loss: 0.0917 - accuracy: 0.9706\n",
      "Epoch 25/50\n",
      "29/29 - 0s - loss: 0.0822 - accuracy: 0.9771\n",
      "Epoch 26/50\n",
      "29/29 - 0s - loss: 0.0773 - accuracy: 0.9771\n",
      "Epoch 27/50\n",
      "29/29 - 0s - loss: 0.0730 - accuracy: 0.9771\n",
      "Epoch 28/50\n",
      "29/29 - 0s - loss: 0.0693 - accuracy: 0.9793\n",
      "Epoch 29/50\n",
      "29/29 - 0s - loss: 0.0631 - accuracy: 0.9804\n",
      "Epoch 30/50\n",
      "29/29 - 0s - loss: 0.0603 - accuracy: 0.9815\n",
      "Epoch 31/50\n",
      "29/29 - 0s - loss: 0.0526 - accuracy: 0.9891\n",
      "Epoch 32/50\n",
      "29/29 - 0s - loss: 0.0526 - accuracy: 0.9869\n",
      "Epoch 33/50\n",
      "29/29 - 0s - loss: 0.0504 - accuracy: 0.9902\n",
      "Epoch 34/50\n",
      "29/29 - 0s - loss: 0.0445 - accuracy: 0.9924\n",
      "Epoch 35/50\n",
      "29/29 - 0s - loss: 0.0429 - accuracy: 0.9880\n",
      "Epoch 36/50\n",
      "29/29 - 0s - loss: 0.0403 - accuracy: 0.9935\n",
      "Epoch 37/50\n",
      "29/29 - 0s - loss: 0.0365 - accuracy: 0.9935\n",
      "Epoch 38/50\n",
      "29/29 - 0s - loss: 0.0355 - accuracy: 0.9946\n",
      "Epoch 39/50\n",
      "29/29 - 0s - loss: 0.0324 - accuracy: 0.9946\n",
      "Epoch 40/50\n",
      "29/29 - 0s - loss: 0.0300 - accuracy: 0.9924\n",
      "Epoch 41/50\n",
      "29/29 - 0s - loss: 0.0281 - accuracy: 0.9978\n",
      "Epoch 42/50\n",
      "29/29 - 0s - loss: 0.0277 - accuracy: 0.9956\n",
      "Epoch 43/50\n",
      "29/29 - 0s - loss: 0.0244 - accuracy: 1.0000\n",
      "Epoch 44/50\n",
      "29/29 - 0s - loss: 0.0249 - accuracy: 0.9978\n",
      "Epoch 45/50\n",
      "29/29 - 0s - loss: 0.0232 - accuracy: 0.9967\n",
      "Epoch 46/50\n",
      "29/29 - 0s - loss: 0.0229 - accuracy: 0.9946\n",
      "Epoch 47/50\n",
      "29/29 - 0s - loss: 0.0225 - accuracy: 0.9967\n",
      "Epoch 48/50\n",
      "29/29 - 0s - loss: 0.0200 - accuracy: 0.9989\n",
      "Epoch 49/50\n",
      "29/29 - 0s - loss: 0.0189 - accuracy: 0.9989\n",
      "Epoch 50/50\n",
      "29/29 - 0s - loss: 0.0182 - accuracy: 1.0000\n",
      "8/8 - 0s - loss: 0.0732 - accuracy: 0.9696\n",
      "Epoch 1/50\n",
      "29/29 - 0s - loss: 0.6926 - accuracy: 0.4511\n",
      "Epoch 2/50\n",
      "29/29 - 0s - loss: 0.6721 - accuracy: 0.5761\n",
      "Epoch 3/50\n",
      "29/29 - 0s - loss: 0.6358 - accuracy: 0.6739\n",
      "Epoch 4/50\n",
      "29/29 - 0s - loss: 0.5709 - accuracy: 0.7554\n",
      "Epoch 5/50\n",
      "29/29 - 0s - loss: 0.4931 - accuracy: 0.8304\n",
      "Epoch 6/50\n",
      "29/29 - 0s - loss: 0.4039 - accuracy: 0.8728\n",
      "Epoch 7/50\n",
      "29/29 - 0s - loss: 0.3176 - accuracy: 0.9000\n",
      "Epoch 8/50\n",
      "29/29 - 0s - loss: 0.2577 - accuracy: 0.9087\n",
      "Epoch 9/50\n",
      "29/29 - 0s - loss: 0.2188 - accuracy: 0.9217\n",
      "Epoch 10/50\n",
      "29/29 - 0s - loss: 0.1915 - accuracy: 0.9293\n",
      "Epoch 11/50\n",
      "29/29 - 0s - loss: 0.1765 - accuracy: 0.9337\n",
      "Epoch 12/50\n",
      "29/29 - 0s - loss: 0.1591 - accuracy: 0.9424\n",
      "Epoch 13/50\n",
      "29/29 - 0s - loss: 0.1511 - accuracy: 0.9500\n",
      "Epoch 14/50\n",
      "29/29 - 0s - loss: 0.1356 - accuracy: 0.9489\n",
      "Epoch 15/50\n",
      "29/29 - 0s - loss: 0.1248 - accuracy: 0.9543\n",
      "Epoch 16/50\n",
      "29/29 - 0s - loss: 0.1187 - accuracy: 0.9554\n",
      "Epoch 17/50\n",
      "29/29 - 0s - loss: 0.1136 - accuracy: 0.9533\n",
      "Epoch 18/50\n",
      "29/29 - 0s - loss: 0.1083 - accuracy: 0.9576\n",
      "Epoch 19/50\n",
      "29/29 - 0s - loss: 0.0981 - accuracy: 0.9620\n",
      "Epoch 20/50\n",
      "29/29 - 0s - loss: 0.0929 - accuracy: 0.9620\n",
      "Epoch 21/50\n",
      "29/29 - 0s - loss: 0.0890 - accuracy: 0.9685\n",
      "Epoch 22/50\n",
      "29/29 - 0s - loss: 0.0814 - accuracy: 0.9696\n",
      "Epoch 23/50\n",
      "29/29 - 0s - loss: 0.0778 - accuracy: 0.9728\n",
      "Epoch 24/50\n",
      "29/29 - 0s - loss: 0.0745 - accuracy: 0.9739\n",
      "Epoch 25/50\n",
      "29/29 - 0s - loss: 0.0696 - accuracy: 0.9728\n",
      "Epoch 26/50\n",
      "29/29 - 0s - loss: 0.0670 - accuracy: 0.9750\n",
      "Epoch 27/50\n",
      "29/29 - 0s - loss: 0.0760 - accuracy: 0.9728\n",
      "Epoch 28/50\n",
      "29/29 - 0s - loss: 0.0616 - accuracy: 0.9772\n",
      "Epoch 29/50\n",
      "29/29 - 0s - loss: 0.0581 - accuracy: 0.9837\n",
      "Epoch 30/50\n",
      "29/29 - 0s - loss: 0.0534 - accuracy: 0.9848\n",
      "Epoch 31/50\n",
      "29/29 - 0s - loss: 0.0508 - accuracy: 0.9859\n",
      "Epoch 32/50\n",
      "29/29 - 0s - loss: 0.0481 - accuracy: 0.9870\n",
      "Epoch 33/50\n",
      "29/29 - 0s - loss: 0.0443 - accuracy: 0.9870\n",
      "Epoch 34/50\n",
      "29/29 - 0s - loss: 0.0415 - accuracy: 0.9870\n",
      "Epoch 35/50\n",
      "29/29 - 0s - loss: 0.0389 - accuracy: 0.9913\n",
      "Epoch 36/50\n",
      "29/29 - 0s - loss: 0.0452 - accuracy: 0.9837\n",
      "Epoch 37/50\n",
      "29/29 - 0s - loss: 0.0352 - accuracy: 0.9924\n",
      "Epoch 38/50\n",
      "29/29 - 0s - loss: 0.0353 - accuracy: 0.9913\n",
      "Epoch 39/50\n",
      "29/29 - 0s - loss: 0.0323 - accuracy: 0.9946\n",
      "Epoch 40/50\n",
      "29/29 - 0s - loss: 0.0310 - accuracy: 0.9946\n",
      "Epoch 41/50\n",
      "29/29 - 0s - loss: 0.0284 - accuracy: 0.9935\n",
      "Epoch 42/50\n",
      "29/29 - 0s - loss: 0.0282 - accuracy: 0.9978\n",
      "Epoch 43/50\n",
      "29/29 - 0s - loss: 0.0290 - accuracy: 0.9957\n",
      "Epoch 44/50\n",
      "29/29 - 0s - loss: 0.0253 - accuracy: 0.9967\n",
      "Epoch 45/50\n",
      "29/29 - 0s - loss: 0.0238 - accuracy: 0.9978\n",
      "Epoch 46/50\n",
      "29/29 - 0s - loss: 0.0220 - accuracy: 0.9978\n",
      "Epoch 47/50\n",
      "29/29 - 0s - loss: 0.0207 - accuracy: 0.9989\n",
      "Epoch 48/50\n",
      "29/29 - 0s - loss: 0.0197 - accuracy: 0.9978\n",
      "Epoch 49/50\n",
      "29/29 - 0s - loss: 0.0176 - accuracy: 0.9989\n",
      "Epoch 50/50\n",
      "29/29 - 0s - loss: 0.0173 - accuracy: 0.9989\n",
      "8/8 - 0s - loss: 0.0812 - accuracy: 0.9651\n"
     ]
    },
    {
     "data": {
      "text/plain": [
       "array([0.96956521, 0.95217389, 0.96086955, 0.96956521, 0.96506548])"
      ]
     },
     "execution_count": 19,
     "metadata": {},
     "output_type": "execute_result"
    }
   ],
   "source": [
    "#because this is a cross_val through SKlearn, it will run the epochs 5 times - so 50X5 for the cross val\n",
    "cross_val_score(keras_model, X_pure_train, y_pure_train)"
   ]
  },
  {
   "cell_type": "markdown",
   "metadata": {},
   "source": [
    "## Regularization"
   ]
  },
  {
   "cell_type": "markdown",
   "metadata": {},
   "source": [
    "Does regularization make sense in the context of neural networks? <br/>\n",
    "\n",
    "Yes! We still have all of the salient ingredients: a loss function, overfitting vs. underfitting, and coefficients (weights) that could get too large.\n",
    "\n",
    "But there are now a few different flavors besides L1 and L2 regularization. (Note that L1 regularization is not common in the context of  neural networks.)\n",
    "\n",
    "We'll add a few more layers to give regularization a better chance of making a difference!"
   ]
  },
  {
   "cell_type": "code",
   "execution_count": 20,
   "metadata": {},
   "outputs": [
    {
     "data": {
      "image/png": "[encoded data removed]",
      "text/plain": [
       "<Figure size 720x360 with 2 Axes>"
      ]
     },
     "metadata": {
      "needs_background": "light"
     },
     "output_type": "display_data"
    }
   ],
   "source": [
    "model = Sequential()\n",
    "model.add(Dense(30, activation='relu', input_dim=64))\n",
    "\n",
    "# We can add L2 (or L1) regularization right into\n",
    "# the layer with the kernel_regularizer parameter.\n",
    "\n",
    "model.add(Dense(20, activation='relu',\n",
    "                kernel_regularizer=l2(l2=0.05)))\n",
    "\n",
    "# Note that there is also a bias_regularizer,\n",
    "# but this tends to have less effect.\n",
    "\n",
    "model.add(Dense(12, activation='relu'))\n",
    "model.add(Dense(12, activation='relu'))\n",
    "model.add(Dense(12, activation='relu'))\n",
    "model.add(Dense(8, activation='relu'))\n",
    "model.add(Dense(4, activation='relu'))\n",
    "model.add(Dense(1, activation ='sigmoid'))\n",
    "\n",
    "model.compile(optimizer='adam',\n",
    "              loss='binary_crossentropy',\n",
    "              metrics=['accuracy'])\n",
    "\n",
    "results = model.fit(X_pure_train, y_pure_train, epochs=20, batch_size=32,\n",
    "                    verbose=0, validation_data=(X_val, y_val))\n",
    "\n",
    "train_loss = results.history['loss']\n",
    "train_acc = results.history['accuracy']\n",
    "val_loss = results.history['val_loss']\n",
    "val_acc = results.history['val_accuracy']\n",
    "\n",
    "\n",
    "fig, (ax1, ax2) = plt.subplots(1, 2, figsize=(10, 5))\n",
    "sns.lineplot(x=results.epoch, y=train_loss, ax=ax1, label='train_loss')\n",
    "sns.lineplot(x=results.epoch, y=train_acc, ax=ax2, label='train_accuracy')\n",
    "\n",
    "sns.lineplot(x=results.epoch, y=val_loss, ax=ax1, label='val_loss')\n",
    "sns.lineplot(x=results.epoch, y=val_acc, ax=ax2, label='val_accuracy');"
   ]
  },
  {
   "cell_type": "markdown",
   "metadata": {},
   "source": [
    "Adding L2 to multiple layers:"
   ]
  },
  {
   "cell_type": "code",
   "execution_count": 21,
   "metadata": {},
   "outputs": [
    {
     "data": {
      "image/png": "[encoded data removed]",
      "text/plain": [
       "<Figure size 720x360 with 2 Axes>"
      ]
     },
     "metadata": {
      "needs_background": "light"
     },
     "output_type": "display_data"
    }
   ],
   "source": [
    "model = Sequential()\n",
    "model.add(Dense(30, activation='relu',\n",
    "                input_dim=64))\n",
    "model.add(Dense(20, activation='relu',\n",
    "                kernel_regularizer=l2(l2=0.01)))\n",
    "\n",
    "model.add(Dense(12, activation='relu',\n",
    "                kernel_regularizer=l2(l2=0.01)))\n",
    "model.add(Dense(12, activation='relu',\n",
    "                kernel_regularizer=l2(l2=0.01)))\n",
    "model.add(Dense(12, activation='relu',\n",
    "                kernel_regularizer=l2(l2=0.01)))\n",
    "model.add(Dense(8, activation='relu',\n",
    "                kernel_regularizer=l2(l2=0.01)))\n",
    "model.add(Dense(4, activation='relu',\n",
    "                kernel_regularizer=l2(l2=0.01)))\n",
    "model.add(Dense(1, activation='sigmoid'))\n",
    "\n",
    "model.compile(optimizer='adam',\n",
    "              loss='binary_crossentropy',\n",
    "              metrics=['accuracy'])\n",
    "\n",
    "results = model.fit(X_pure_train, y_pure_train, epochs=20, batch_size=32,\n",
    "                    verbose=0, validation_data=(X_val, y_val))\n",
    "\n",
    "train_loss = results.history['loss']\n",
    "train_acc = results.history['accuracy']\n",
    "val_loss = results.history['val_loss']\n",
    "val_acc = results.history['val_accuracy']\n",
    "\n",
    "\n",
    "fig, (ax1, ax2) = plt.subplots(1, 2, figsize=(10, 5))\n",
    "sns.lineplot(x=results.epoch, y=train_loss, ax=ax1, label='train_loss')\n",
    "sns.lineplot(x=results.epoch, y=train_acc, ax=ax2, label='train_accuracy')\n",
    "\n",
    "sns.lineplot(x=results.epoch, y=val_loss, ax=ax1, label='val_loss')\n",
    "sns.lineplot(x=results.epoch, y=val_acc, ax=ax2, label='val_accuracy');"
   ]
  },
  {
   "cell_type": "markdown",
   "metadata": {},
   "source": [
    "### Dropout\n",
    "\n",
    "We can also specify a dropout layer in keras, which randomly shuts off different nodes during training. This can help to prevent overfitting.\n",
    "\n",
    "![drop_out](img/drop_out.png)"
   ]
  },
  {
   "cell_type": "markdown",
   "metadata": {},
   "source": [
    "### Exercise\n",
    "\n",
    "To add dropout to a `keras` network, simply add it as though it were a layer. It will apply to the immediately preceding layer.\n",
    "\n",
    "Add Dropout to one or more layers below."
   ]
  },
  {
   "cell_type": "code",
   "execution_count": 24,
   "metadata": {},
   "outputs": [
    {
     "data": {
      "image/png": "[encoded data removed]",
      "text/plain": [
       "<Figure size 720x360 with 2 Axes>"
      ]
     },
     "metadata": {
      "needs_background": "light"
     },
     "output_type": "display_data"
    }
   ],
   "source": [
    "model = Sequential()\n",
    "model.add(Dense(30, activation='relu', input_dim=64))\n",
    "model.add(Dense(20, activation='relu'))\n",
    "model.add(Dropout(0.5))\n",
    "model.add(Dense(12, activation='relu'))\n",
    "model.add(Dense(12, activation='relu'))\n",
    "model.add(Dense(12, activation='relu'))\n",
    "model.add(Dense(8, activation='relu'))\n",
    "model.add(Dense(4, activation='relu'))\n",
    "model.add(Dense(1, activation ='sigmoid'))\n",
    "\n",
    "model.compile(optimizer='adam',\n",
    "              loss='binary_crossentropy',\n",
    "              metrics=['accuracy'])\n",
    "\n",
    "results = model.fit(X_pure_train, y_pure_train, epochs=50,\n",
    "                    batch_size= 32, verbose=0,\n",
    "                    validation_data=(X_val, y_val))\n",
    "\n",
    "train_loss = results.history['loss']\n",
    "train_acc = results.history['accuracy']\n",
    "val_loss = results.history['val_loss']\n",
    "val_acc = results.history['val_accuracy']\n",
    "\n",
    "\n",
    "fig, (ax1, ax2) = plt.subplots(1, 2, figsize=(10, 5))\n",
    "sns.lineplot(x=results.epoch, y=train_loss, ax=ax1, label='train_loss')\n",
    "sns.lineplot(x=results.epoch, y=train_acc, ax=ax2, label='train_accuracy')\n",
    "\n",
    "sns.lineplot(x=results.epoch, y=val_loss, ax=ax1, label='val_loss')\n",
    "sns.lineplot(x=results.epoch, y=val_acc, ax=ax2, label='val_accuracy');"
   ]
  },
  {
   "cell_type": "code",
   "execution_count": 25,
   "metadata": {},
   "outputs": [
    {
     "data": {
      "text/plain": [
       "0.9756944179534912"
      ]
     },
     "execution_count": 25,
     "metadata": {},
     "output_type": "execute_result"
    }
   ],
   "source": [
    "results.history['val_accuracy'][-1]"
   ]
  },
  {
   "cell_type": "markdown",
   "metadata": {},
   "source": [
    "### Early Stopping"
   ]
  },
  {
   "cell_type": "markdown",
   "metadata": {},
   "source": [
    "We can also tell our neural network to stop once it stops realizing any gain.\n",
    "\n",
    "Here we tell it to stop once the a very small positive change in the validation loss occurs:"
   ]
  },
  {
   "cell_type": "code",
   "execution_count": 26,
   "metadata": {},
   "outputs": [
    {
     "name": "stdout",
     "output_type": "stream",
     "text": [
      "Epoch 00017: early stopping\n"
     ]
    },
    {
     "data": {
      "image/png": "[encoded data removed]",
      "text/plain": [
       "<Figure size 720x360 with 2 Axes>"
      ]
     },
     "metadata": {
      "needs_background": "light"
     },
     "output_type": "display_data"
    }
   ],
   "source": [
    "model = Sequential()\n",
    "model.add(Dense(30, activation='relu', input_dim=64))\n",
    "model.add(Dense(20, activation='relu'))\n",
    "model.add(Dropout(0.5))\n",
    "model.add(Dense(12, activation='relu'))\n",
    "model.add(Dense(12, activation='relu'))\n",
    "model.add(Dense(12, activation='relu'))\n",
    "model.add(Dense(8, activation='relu'))\n",
    "model.add(Dense(4, activation='relu'))\n",
    "model.add(Dense(1, activation ='sigmoid'))\n",
    "\n",
    "model.compile(optimizer='adam',\n",
    "              loss='binary_crossentropy',\n",
    "              metrics=['accuracy'])\n",
    "\n",
    "# Define the EarlyStopping object\n",
    "early_stop = EarlyStopping(monitor='val_loss', min_delta=1e-8,\n",
    "                           verbose=1,\n",
    "                           mode='min')\n",
    "\n",
    "# Place this in a list as the value of the `callbacks` parameter\n",
    "# in the `.fit()` method.\n",
    "results = model.fit(X_pure_train, y_pure_train,\n",
    "                    epochs=20, batch_size=32,\n",
    "                    verbose=0, validation_data=(X_val, y_val),\n",
    "                    callbacks=[early_stop])\n",
    "\n",
    "train_loss = results.history['loss']\n",
    "train_acc = results.history['accuracy']\n",
    "val_loss = results.history['val_loss']\n",
    "val_acc = results.history['val_accuracy']\n",
    "\n",
    "\n",
    "fig, (ax1, ax2) = plt.subplots(1, 2, figsize=(10, 5))\n",
    "sns.lineplot(x=results.epoch, y=train_loss, ax=ax1, label='train_loss')\n",
    "sns.lineplot(x=results.epoch, y=train_acc, ax=ax2, label='train_accuracy')\n",
    "\n",
    "sns.lineplot(x=results.epoch, y=val_loss, ax=ax1, label='val_loss')\n",
    "sns.lineplot(x=results.epoch, y=val_acc, ax=ax2, label='val_accuracy');"
   ]
  },
  {
   "cell_type": "markdown",
   "metadata": {},
   "source": [
    "### Exercise\n",
    "\n",
    "That probably stopped too early. We can specify the number of epochs in which it doesn't see decrease in the loss with the `patience` parameter. Modify the code below to include an Early Stop with a patience of 5 epochs."
   ]
  },
  {
   "cell_type": "code",
   "execution_count": 27,
   "metadata": {},
   "outputs": [
    {
     "name": "stdout",
     "output_type": "stream",
     "text": [
      "Epoch 00036: early stopping\n"
     ]
    },
    {
     "data": {
      "image/png": "[encoded data removed]",
      "text/plain": [
       "<Figure size 720x360 with 2 Axes>"
      ]
     },
     "metadata": {
      "needs_background": "light"
     },
     "output_type": "display_data"
    }
   ],
   "source": [
    "model = Sequential()\n",
    "model.add(Dense(30, activation='relu', input_dim=64))\n",
    "model.add(Dense(20, activation='relu'))\n",
    "model.add(Dropout(0.5))\n",
    "model.add(Dense(12, activation='relu'))\n",
    "model.add(Dense(12, activation='relu'))\n",
    "model.add(Dense(12, activation='relu'))\n",
    "model.add(Dense(8, activation='relu'))\n",
    "model.add(Dense(4, activation='relu'))\n",
    "model.add(Dense(1, activation ='sigmoid'))\n",
    "\n",
    "model.compile(optimizer='adam',\n",
    "              loss='binary_crossentropy',\n",
    "              metrics=['accuracy'])\n",
    "\n",
    "# Define the EarlyStopping object\n",
    "early_stop = EarlyStopping(monitor='val_loss', min_delta=1e-8,\n",
    "                           patience=5, verbose=1,\n",
    "                           mode='min')\n",
    "\n",
    "# Place this in a list as the value of the `callbacks` parameter\n",
    "# in the `.fit()` method.\n",
    "results = model.fit(X_pure_train, y_pure_train,\n",
    "                    epochs=50, batch_size= 32,\n",
    "                    verbose=0, validation_data=(X_val, y_val),\n",
    "                    callbacks=[early_stop])\n",
    "\n",
    "train_loss = results.history['loss']\n",
    "train_acc = results.history['accuracy']\n",
    "val_loss = results.history['val_loss']\n",
    "val_acc = results.history['val_accuracy']\n",
    "\n",
    "\n",
    "fig, (ax1, ax2) = plt.subplots(1, 2, figsize=(10, 5))\n",
    "sns.lineplot(x=results.epoch, y=train_loss, ax=ax1, label='train_loss')\n",
    "sns.lineplot(x=results.epoch, y=train_acc, ax=ax2, label='train_accuracy')\n",
    "\n",
    "sns.lineplot(x=results.epoch, y=val_loss, ax=ax1, label='val_loss')\n",
    "sns.lineplot(x=results.epoch, y=val_acc, ax=ax2, label='val_accuracy');"
   ]
  },
  {
   "cell_type": "code",
   "execution_count": 28,
   "metadata": {},
   "outputs": [
    {
     "data": {
      "text/plain": [
       "0.9756944179534912"
      ]
     },
     "execution_count": 28,
     "metadata": {},
     "output_type": "execute_result"
    }
   ],
   "source": [
    "results.history['val_accuracy'][-1]"
   ]
  },
  {
   "cell_type": "markdown",
   "metadata": {},
   "source": [
    "## Multiclass Classification and Softmax"
   ]
  },
  {
   "cell_type": "markdown",
   "metadata": {},
   "source": [
    "Now let's return to the problem of predicting digits 0 through 9."
   ]
  },
  {
   "cell_type": "code",
   "execution_count": 29,
   "metadata": {},
   "outputs": [],
   "source": [
    "digits = load_digits()\n",
    "X = digits.data\n",
    "y = digits.target"
   ]
  },
  {
   "cell_type": "code",
   "execution_count": 30,
   "metadata": {},
   "outputs": [],
   "source": [
    "X_train, X_test, y_train, y_test = train_test_split(X, y,\n",
    "                                                    random_state=42,\n",
    "                                                    test_size=0.2)\n",
    "X_pure_train, X_val, y_pure_train, y_val =\\\n",
    "    train_test_split(X_train, y_train,\n",
    "                     random_state=42, test_size=0.2)\n",
    "X_pure_train, X_val, X_test = X_pure_train/16, X_val/16, X_test/16"
   ]
  },
  {
   "cell_type": "markdown",
   "metadata": {},
   "source": [
    "For a multiclass output, our neural net expects our target to be in a certain form."
   ]
  },
  {
   "cell_type": "code",
   "execution_count": 31,
   "metadata": {},
   "outputs": [],
   "source": [
    "ohe = OneHotEncoder(sparse=False)\n",
    "y_pure_train = ohe.fit_transform(y_pure_train.reshape(-1,1))\n",
    "y_val = ohe.transform(y_val.reshape(-1,1))\n",
    "y_test = ohe.transform(y_test.reshape(-1,1))"
   ]
  },
  {
   "cell_type": "code",
   "execution_count": 32,
   "metadata": {},
   "outputs": [
    {
     "data": {
      "text/plain": [
       "array([[0., 0., 0., ..., 0., 0., 0.],\n",
       "       [0., 0., 0., ..., 0., 0., 1.],\n",
       "       [0., 0., 0., ..., 0., 0., 0.],\n",
       "       ...,\n",
       "       [0., 0., 0., ..., 0., 1., 0.],\n",
       "       [0., 0., 0., ..., 0., 0., 0.],\n",
       "       [0., 0., 0., ..., 0., 0., 0.]])"
      ]
     },
     "execution_count": 32,
     "metadata": {},
     "output_type": "execute_result"
    }
   ],
   "source": [
    "y_test"
   ]
  },
  {
   "cell_type": "code",
   "execution_count": 33,
   "metadata": {},
   "outputs": [
    {
     "name": "stdout",
     "output_type": "stream",
     "text": [
      "Epoch 1/50\n",
      "115/115 [==============================] - 1s 6ms/step - loss: 2.1906 - accuracy: 0.1584 - val_loss: 2.0626 - val_accuracy: 0.2674\n",
      "Epoch 2/50\n",
      "115/115 [==============================] - 1s 5ms/step - loss: 1.9587 - accuracy: 0.3142 - val_loss: 1.8103 - val_accuracy: 0.3889\n",
      "Epoch 3/50\n",
      "115/115 [==============================] - 1s 9ms/step - loss: 1.6943 - accuracy: 0.4369 - val_loss: 1.5420 - val_accuracy: 0.5174\n",
      "Epoch 4/50\n",
      "115/115 [==============================] - 1s 10ms/step - loss: 1.4298 - accuracy: 0.5622 - val_loss: 1.3083 - val_accuracy: 0.6285\n",
      "Epoch 5/50\n",
      "115/115 [==============================] - 1s 9ms/step - loss: 1.1878 - accuracy: 0.6719 - val_loss: 1.0697 - val_accuracy: 0.7222\n",
      "Epoch 6/50\n",
      "115/115 [==============================] - 1s 8ms/step - loss: 0.9628 - accuracy: 0.7763 - val_loss: 0.8901 - val_accuracy: 0.7674\n",
      "Epoch 7/50\n",
      "115/115 [==============================] - 1s 12ms/step - loss: 0.7839 - accuracy: 0.8207 - val_loss: 0.7480 - val_accuracy: 0.7951\n",
      "Epoch 8/50\n",
      "115/115 [==============================] - 2s 16ms/step - loss: 0.6518 - accuracy: 0.8364 - val_loss: 0.6333 - val_accuracy: 0.8229\n",
      "Epoch 9/50\n",
      "115/115 [==============================] - 1s 9ms/step - loss: 0.5567 - accuracy: 0.8538 - val_loss: 0.5664 - val_accuracy: 0.8333\n",
      "Epoch 10/50\n",
      "115/115 [==============================] - 1s 5ms/step - loss: 0.4899 - accuracy: 0.8660 - val_loss: 0.5045 - val_accuracy: 0.8611\n",
      "Epoch 11/50\n",
      "115/115 [==============================] - 1s 6ms/step - loss: 0.4417 - accuracy: 0.8799 - val_loss: 0.4662 - val_accuracy: 0.8542\n",
      "Epoch 12/50\n",
      "115/115 [==============================] - 1s 6ms/step - loss: 0.3991 - accuracy: 0.8956 - val_loss: 0.4191 - val_accuracy: 0.8924\n",
      "Epoch 13/50\n",
      "115/115 [==============================] - 1s 7ms/step - loss: 0.3620 - accuracy: 0.9043 - val_loss: 0.3949 - val_accuracy: 0.8785\n",
      "Epoch 14/50\n",
      "115/115 [==============================] - 1s 6ms/step - loss: 0.3379 - accuracy: 0.9138 - val_loss: 0.3697 - val_accuracy: 0.8958\n",
      "Epoch 15/50\n",
      "115/115 [==============================] - 1s 8ms/step - loss: 0.3146 - accuracy: 0.9182 - val_loss: 0.3575 - val_accuracy: 0.8889\n",
      "Epoch 16/50\n",
      "115/115 [==============================] - 1s 6ms/step - loss: 0.2903 - accuracy: 0.9191 - val_loss: 0.3643 - val_accuracy: 0.8854\n",
      "Epoch 17/50\n",
      "115/115 [==============================] - 1s 7ms/step - loss: 0.2794 - accuracy: 0.9199 - val_loss: 0.3090 - val_accuracy: 0.9028\n",
      "Epoch 18/50\n",
      "115/115 [==============================] - 1s 5ms/step - loss: 0.2596 - accuracy: 0.9321 - val_loss: 0.3009 - val_accuracy: 0.9062\n",
      "Epoch 19/50\n",
      "115/115 [==============================] - 1s 8ms/step - loss: 0.2449 - accuracy: 0.9321 - val_loss: 0.2939 - val_accuracy: 0.8993\n",
      "Epoch 20/50\n",
      "115/115 [==============================] - 1s 5ms/step - loss: 0.2335 - accuracy: 0.9391 - val_loss: 0.2850 - val_accuracy: 0.9028\n",
      "Epoch 21/50\n",
      "115/115 [==============================] - 1s 5ms/step - loss: 0.2219 - accuracy: 0.9373 - val_loss: 0.2740 - val_accuracy: 0.9062\n",
      "Epoch 22/50\n",
      "115/115 [==============================] - 1s 6ms/step - loss: 0.2108 - accuracy: 0.9417 - val_loss: 0.2920 - val_accuracy: 0.8924\n",
      "Epoch 23/50\n",
      "115/115 [==============================] - 1s 4ms/step - loss: 0.2008 - accuracy: 0.9408 - val_loss: 0.2540 - val_accuracy: 0.8958\n",
      "Epoch 24/50\n",
      "115/115 [==============================] - 1s 10ms/step - loss: 0.1987 - accuracy: 0.9417 - val_loss: 0.2424 - val_accuracy: 0.9062\n",
      "Epoch 25/50\n",
      "115/115 [==============================] - 2s 17ms/step - loss: 0.1898 - accuracy: 0.9513 - val_loss: 0.2460 - val_accuracy: 0.9132\n",
      "Epoch 26/50\n",
      "115/115 [==============================] - 2s 14ms/step - loss: 0.1814 - accuracy: 0.9460 - val_loss: 0.2375 - val_accuracy: 0.9167\n",
      "Epoch 27/50\n",
      "115/115 [==============================] - 1s 6ms/step - loss: 0.1749 - accuracy: 0.9530 - val_loss: 0.2228 - val_accuracy: 0.9097\n",
      "Epoch 28/50\n",
      "115/115 [==============================] - 1s 8ms/step - loss: 0.1658 - accuracy: 0.9539 - val_loss: 0.2182 - val_accuracy: 0.9097\n",
      "Epoch 29/50\n",
      "115/115 [==============================] - 1s 9ms/step - loss: 0.1605 - accuracy: 0.9600 - val_loss: 0.2230 - val_accuracy: 0.8993\n",
      "Epoch 30/50\n",
      "115/115 [==============================] - 1s 11ms/step - loss: 0.1546 - accuracy: 0.9530 - val_loss: 0.2057 - val_accuracy: 0.9236\n",
      "Epoch 31/50\n",
      "115/115 [==============================] - 1s 10ms/step - loss: 0.1516 - accuracy: 0.9556 - val_loss: 0.2047 - val_accuracy: 0.9167\n",
      "Epoch 32/50\n",
      "115/115 [==============================] - 0s 4ms/step - loss: 0.1443 - accuracy: 0.9634 - val_loss: 0.2039 - val_accuracy: 0.9201\n",
      "Epoch 33/50\n",
      "115/115 [==============================] - 1s 6ms/step - loss: 0.1385 - accuracy: 0.9678 - val_loss: 0.1946 - val_accuracy: 0.9201\n",
      "Epoch 34/50\n",
      "115/115 [==============================] - 1s 7ms/step - loss: 0.1359 - accuracy: 0.9626 - val_loss: 0.2102 - val_accuracy: 0.9097\n",
      "Epoch 35/50\n",
      "115/115 [==============================] - 1s 6ms/step - loss: 0.1281 - accuracy: 0.9721 - val_loss: 0.2164 - val_accuracy: 0.9097\n",
      "Epoch 36/50\n",
      "115/115 [==============================] - 1s 7ms/step - loss: 0.1268 - accuracy: 0.9652 - val_loss: 0.1889 - val_accuracy: 0.9271\n",
      "Epoch 37/50\n",
      "115/115 [==============================] - 1s 9ms/step - loss: 0.1211 - accuracy: 0.9687 - val_loss: 0.1864 - val_accuracy: 0.9271\n",
      "Epoch 38/50\n",
      "115/115 [==============================] - 1s 10ms/step - loss: 0.1194 - accuracy: 0.9695 - val_loss: 0.1843 - val_accuracy: 0.9201\n",
      "Epoch 39/50\n",
      "115/115 [==============================] - 1s 6ms/step - loss: 0.1180 - accuracy: 0.9669 - val_loss: 0.1846 - val_accuracy: 0.9340\n",
      "Epoch 40/50\n",
      "115/115 [==============================] - 1s 4ms/step - loss: 0.1107 - accuracy: 0.9756 - val_loss: 0.1900 - val_accuracy: 0.9167\n",
      "Epoch 41/50\n",
      "115/115 [==============================] - 1s 12ms/step - loss: 0.1086 - accuracy: 0.9756 - val_loss: 0.1783 - val_accuracy: 0.9340\n",
      "Epoch 42/50\n",
      "115/115 [==============================] - 1s 7ms/step - loss: 0.1041 - accuracy: 0.9774 - val_loss: 0.1820 - val_accuracy: 0.9340\n",
      "Epoch 43/50\n",
      "115/115 [==============================] - 1s 10ms/step - loss: 0.1042 - accuracy: 0.9765 - val_loss: 0.1702 - val_accuracy: 0.9271\n",
      "Epoch 44/50\n",
      "115/115 [==============================] - 1s 11ms/step - loss: 0.1001 - accuracy: 0.9748 - val_loss: 0.1728 - val_accuracy: 0.9340\n",
      "Epoch 45/50\n",
      "115/115 [==============================] - 2s 18ms/step - loss: 0.0979 - accuracy: 0.9800 - val_loss: 0.1673 - val_accuracy: 0.9340\n",
      "Epoch 46/50\n",
      "115/115 [==============================] - 2s 16ms/step - loss: 0.0945 - accuracy: 0.9765 - val_loss: 0.1665 - val_accuracy: 0.9479\n",
      "Epoch 47/50\n",
      "115/115 [==============================] - 1s 8ms/step - loss: 0.0939 - accuracy: 0.9835 - val_loss: 0.1611 - val_accuracy: 0.9375\n",
      "Epoch 48/50\n",
      "115/115 [==============================] - 1s 9ms/step - loss: 0.0875 - accuracy: 0.9835 - val_loss: 0.1690 - val_accuracy: 0.9340\n",
      "Epoch 49/50\n",
      "115/115 [==============================] - 1s 10ms/step - loss: 0.0888 - accuracy: 0.9791 - val_loss: 0.1623 - val_accuracy: 0.9444\n",
      "Epoch 50/50\n",
      "115/115 [==============================] - 1s 9ms/step - loss: 0.0859 - accuracy: 0.9817 - val_loss: 0.1540 - val_accuracy: 0.9479\n"
     ]
    }
   ],
   "source": [
    "# Model from above, but now with ten output neurons:\n",
    "\n",
    "model = Sequential()\n",
    "model.add(Dense(12, activation='relu', input_dim=64))\n",
    "model.add(Dense(8, activation='relu'))\n",
    "model.add(Dense(10, activation='softmax'))\n",
    "\n",
    "model.compile(optimizer='adam',\n",
    "              loss='categorical_crossentropy',\n",
    "              metrics=['accuracy'])\n",
    "\n",
    "results = model.fit(X_pure_train, y_pure_train,\n",
    "                   epochs=50, batch_size=10,\n",
    "                   validation_data=(X_val, y_val))"
   ]
  },
  {
   "cell_type": "markdown",
   "metadata": {},
   "source": [
    "$$\\large \\text{Softmax}(x_{i}) = \\frac{\\exp(x_i)}{\\sum_j \\exp(x_j)}$$\n",
    "\n",
    "The sofmax function outputs a number between 0 and 1 for each of our classes.  All of the probabilities of the classes sum up to 1.\n",
    "\n",
    "The number of nodes in our output layer equals the number of categories in our dataset.\n",
    "\n",
    "We also need a new loss function: **categorical crossentropy**, which calculates a separate loss for each label and then sums the results."
   ]
  },
  {
   "cell_type": "code",
   "execution_count": 34,
   "metadata": {},
   "outputs": [],
   "source": [
    "history = results.history\n",
    "training_loss = history['loss']\n",
    "val_loss = history['val_loss']\n",
    "training_accuracy = history['accuracy']\n",
    "val_accuracy = history['val_accuracy']"
   ]
  },
  {
   "cell_type": "code",
   "execution_count": 35,
   "metadata": {},
   "outputs": [
    {
     "data": {
      "image/png": "[encoded data removed]",
      "text/plain": [
       "<Figure size 1080x360 with 2 Axes>"
      ]
     },
     "metadata": {
      "needs_background": "light"
     },
     "output_type": "display_data"
    }
   ],
   "source": [
    "fig, (ax1,ax2) = plt.subplots(1,2,figsize=(15,5))\n",
    "\n",
    "\n",
    "sns.lineplot(x=list(range(len(training_loss))),\n",
    "             y=training_loss, color='r', label='training', ax=ax1)\n",
    "sns.lineplot(x=list(range(len(val_loss))),\n",
    "             y=val_loss, color='b', label='validation', ax=ax1)\n",
    "sns.lineplot(x=list(range(len(training_loss))),\n",
    "             y=training_accuracy, color='r', label='training',ax=ax2)\n",
    "sns.lineplot(x=list(range(len(val_loss))),\n",
    "             y=val_accuracy, color='b', label='validation',ax=ax2)\n",
    "ax1.legend();"
   ]
  },
  {
   "cell_type": "code",
   "execution_count": 36,
   "metadata": {},
   "outputs": [],
   "source": [
    "y_hat_test = np.argmax(model.predict(X_test), axis=-1)"
   ]
  },
  {
   "cell_type": "code",
   "execution_count": 37,
   "metadata": {},
   "outputs": [
    {
     "data": {
      "text/plain": [
       "array([[31,  0,  0,  0,  0,  0,  1,  1,  0,  0],\n",
       "       [ 0, 28,  0,  0,  0,  0,  0,  0,  0,  0],\n",
       "       [ 0,  2, 29,  1,  0,  0,  0,  0,  1,  0],\n",
       "       [ 0,  0,  1, 32,  0,  1,  0,  0,  0,  0],\n",
       "       [ 1,  1,  0,  0, 44,  0,  0,  0,  0,  0],\n",
       "       [ 0,  0,  0,  0,  0, 46,  0,  0,  0,  1],\n",
       "       [ 0,  0,  0,  0,  1,  0, 34,  0,  0,  0],\n",
       "       [ 0,  0,  0,  0,  0,  0,  0, 32,  1,  1],\n",
       "       [ 0,  0,  1,  0,  1,  1,  0,  0, 27,  0],\n",
       "       [ 0,  1,  0,  0,  0,  0,  0,  1,  1, 37]])"
      ]
     },
     "execution_count": 37,
     "metadata": {},
     "output_type": "execute_result"
    }
   ],
   "source": [
    "y_test_restore = ohe.inverse_transform(y_test)\n",
    "confusion_matrix(y_test_restore, y_hat_test)"
   ]
  },
  {
   "cell_type": "markdown",
   "metadata": {},
   "source": [
    "Wow, look at that performance!  \n",
    "\n",
    "That is great, but remember, we were dealing with simple black and white images.  With color, our basic neural net will have less success.\n",
    "\n",
    "We will explore more advanced tools in the coming days.\n"
   ]
  },
  {
   "cell_type": "code",
   "execution_count": null,
   "metadata": {
    "colab_type": "text",
    "id": "EdZDyJfARV8l"
   },
   "outputs": [],
   "source": []
  }
 ],
 "metadata": {
  "celltoolbar": "Raw Cell Format",
  "colab": {
   "collapsed_sections": [],
   "name": "intro-to-keras.ipynb",
   "provenance": []
  },
  "kernelspec": {
   "display_name": "Python 3",
   "language": "python",
   "name": "python3"
  },
  "language_info": {
   "codemirror_mode": {
    "name": "ipython",
    "version": 3
   },
   "file_extension": ".py",
   "mimetype": "text/x-python",
   "name": "python",
   "nbconvert_exporter": "python",
   "pygments_lexer": "ipython3",
   "version": "3.8.5"
  }
 },
 "nbformat": 4,
 "nbformat_minor": 4
}
